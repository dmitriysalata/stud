{
 "cells": [
  {
   "cell_type": "markdown",
   "id": "79210ff6",
   "metadata": {
    "toc": true
   },
   "source": [
    "<h1>Содержание<span class=\"tocSkip\"></span></h1>\n",
    "<div class=\"toc\"><ul class=\"toc-item\"><li><span><a href=\"#Обзор-данных\" data-toc-modified-id=\"Обзор-данных-1\"><span class=\"toc-item-num\">1&nbsp;&nbsp;</span>Обзор данных</a></span></li><li><span><a href=\"#Предобработка-данных\" data-toc-modified-id=\"Предобработка-данных-2\"><span class=\"toc-item-num\">2&nbsp;&nbsp;</span>Предобработка данных</a></span><ul class=\"toc-item\"><li><span><a href=\"#Работа-со-столбцами,-имеющими-пропуски\" data-toc-modified-id=\"Работа-со-столбцами,-имеющими-пропуски-2.1\"><span class=\"toc-item-num\">2.1&nbsp;&nbsp;</span>Работа со столбцами, имеющими пропуски</a></span><ul class=\"toc-item\"><li><span><a href=\"#Устранение-пропусков-в-столбце-'total_income'.\" data-toc-modified-id=\"Устранение-пропусков-в-столбце-'total_income'.-2.1.1\"><span class=\"toc-item-num\">2.1.1&nbsp;&nbsp;</span>Устранение пропусков в столбце 'total_income'.</a></span></li><li><span><a href=\"#Работа-с-аномалиями-и-устранение-пропусков-в-столбце-'days_employed'.\" data-toc-modified-id=\"Работа-с-аномалиями-и-устранение-пропусков-в-столбце-'days_employed'.-2.1.2\"><span class=\"toc-item-num\">2.1.2&nbsp;&nbsp;</span>Работа с аномалиями и устранение пропусков в столбце 'days_employed'.</a></span><ul class=\"toc-item\"><li><span><a href=\"#Рассмотрение-категорий-клиентов-по-типу-занятости,--для-которых-стаж-указан-как-положительное-число:\" data-toc-modified-id=\"Рассмотрение-категорий-клиентов-по-типу-занятости,--для-которых-стаж-указан-как-положительное-число:-2.1.2.1\"><span class=\"toc-item-num\">2.1.2.1&nbsp;&nbsp;</span>Рассмотрение категорий клиентов по типу занятости,  для которых стаж указан как положительное число:</a></span></li><li><span><a href=\"#Определение-причин-наличия-отрицательных-значений-в-столбце-'days_employed'.\" data-toc-modified-id=\"Определение-причин-наличия-отрицательных-значений-в-столбце-'days_employed'.-2.1.2.2\"><span class=\"toc-item-num\">2.1.2.2&nbsp;&nbsp;</span>Определение причин наличия отрицательных значений в столбце 'days_employed'.</a></span></li><li><span><a href=\"#Определение-алгоритма-работы-с-пропусками-в-столбце-'days_employed'.\" data-toc-modified-id=\"Определение-алгоритма-работы-с-пропусками-в-столбце-'days_employed'.-2.1.2.3\"><span class=\"toc-item-num\">2.1.2.3&nbsp;&nbsp;</span>Определение алгоритма работы с пропусками в столбце 'days_employed'.</a></span></li></ul></li></ul></li><li><span><a href=\"#Проверка-данных-на-аномалии-и-исправления.\" data-toc-modified-id=\"Проверка-данных-на-аномалии-и-исправления.-2.2\"><span class=\"toc-item-num\">2.2&nbsp;&nbsp;</span>Проверка данных на аномалии и исправления.</a></span><ul class=\"toc-item\"><li><span><a href=\"#Проверка-наличия-аномалий-в-столбце-'children'.\" data-toc-modified-id=\"Проверка-наличия-аномалий-в-столбце-'children'.-2.2.1\"><span class=\"toc-item-num\">2.2.1&nbsp;&nbsp;</span>Проверка наличия аномалий в столбце 'children'.</a></span></li><li><span><a href=\"#Проверка-наличия-аномалий-в-столбце-'family_status'-('family_status_id').\" data-toc-modified-id=\"Проверка-наличия-аномалий-в-столбце-'family_status'-('family_status_id').-2.2.2\"><span class=\"toc-item-num\">2.2.2&nbsp;&nbsp;</span>Проверка наличия аномалий в столбце 'family_status' ('family_status_id').</a></span></li><li><span><a href=\"#Проверка-наличия-аномалий-в-столбце-'total_income'.\" data-toc-modified-id=\"Проверка-наличия-аномалий-в-столбце-'total_income'.-2.2.3\"><span class=\"toc-item-num\">2.2.3&nbsp;&nbsp;</span>Проверка наличия аномалий в столбце 'total_income'.</a></span></li></ul></li><li><span><a href=\"#Изменение-типов-данных.\" data-toc-modified-id=\"Изменение-типов-данных.-2.3\"><span class=\"toc-item-num\">2.3&nbsp;&nbsp;</span>Изменение типов данных.</a></span></li><li><span><a href=\"#Удаление-дубликатов.\" data-toc-modified-id=\"Удаление-дубликатов.-2.4\"><span class=\"toc-item-num\">2.4&nbsp;&nbsp;</span>Удаление дубликатов.</a></span><ul class=\"toc-item\"><li><span><a href=\"#Приведение-к-единому-регистру-строковых-значений\" data-toc-modified-id=\"Приведение-к-единому-регистру-строковых-значений-2.4.1\"><span class=\"toc-item-num\">2.4.1&nbsp;&nbsp;</span>Приведение к единому регистру строковых значений</a></span></li><li><span><a href=\"#Удаление-явных-дубликатов\" data-toc-modified-id=\"Удаление-явных-дубликатов-2.4.2\"><span class=\"toc-item-num\">2.4.2&nbsp;&nbsp;</span>Удаление явных дубликатов</a></span></li></ul></li><li><span><a href=\"#Формирование-дополнительных-датафреймов-словарей,-декомпозиция-исходного-датафрейма.\" data-toc-modified-id=\"Формирование-дополнительных-датафреймов-словарей,-декомпозиция-исходного-датафрейма.-2.5\"><span class=\"toc-item-num\">2.5&nbsp;&nbsp;</span>Формирование дополнительных датафреймов словарей, декомпозиция исходного датафрейма.</a></span></li><li><span><a href=\"#Категоризация-дохода.\" data-toc-modified-id=\"Категоризация-дохода.-2.6\"><span class=\"toc-item-num\">2.6&nbsp;&nbsp;</span>Категоризация дохода.</a></span></li><li><span><a href=\"#Категоризация-целей-кредита.\" data-toc-modified-id=\"Категоризация-целей-кредита.-2.7\"><span class=\"toc-item-num\">2.7&nbsp;&nbsp;</span>Категоризация целей кредита.</a></span></li></ul></li><li><span><a href=\"#Ответы-на-вопросы.\" data-toc-modified-id=\"Ответы-на-вопросы.-3\"><span class=\"toc-item-num\">3&nbsp;&nbsp;</span>Ответы на вопросы.</a></span><ul class=\"toc-item\"><li><span><a href=\"#Вопрос-1:\" data-toc-modified-id=\"Вопрос-1:-3.1\"><span class=\"toc-item-num\">3.1&nbsp;&nbsp;</span>Вопрос 1:</a></span><ul class=\"toc-item\"><li><span><a href=\"#Вывод-1:\" data-toc-modified-id=\"Вывод-1:-3.1.1\"><span class=\"toc-item-num\">3.1.1&nbsp;&nbsp;</span>Вывод 1:</a></span></li></ul></li><li><span><a href=\"#Вопрос-2:\" data-toc-modified-id=\"Вопрос-2:-3.2\"><span class=\"toc-item-num\">3.2&nbsp;&nbsp;</span>Вопрос 2:</a></span><ul class=\"toc-item\"><li><span><a href=\"#Вывод-2:\" data-toc-modified-id=\"Вывод-2:-3.2.1\"><span class=\"toc-item-num\">3.2.1&nbsp;&nbsp;</span>Вывод 2:</a></span></li></ul></li><li><span><a href=\"#Вопрос-3:\" data-toc-modified-id=\"Вопрос-3:-3.3\"><span class=\"toc-item-num\">3.3&nbsp;&nbsp;</span>Вопрос 3:</a></span><ul class=\"toc-item\"><li><span><a href=\"#Вывод-3:\" data-toc-modified-id=\"Вывод-3:-3.3.1\"><span class=\"toc-item-num\">3.3.1&nbsp;&nbsp;</span>Вывод 3:</a></span></li></ul></li><li><span><a href=\"#Вопрос-4:\" data-toc-modified-id=\"Вопрос-4:-3.4\"><span class=\"toc-item-num\">3.4&nbsp;&nbsp;</span>Вопрос 4:</a></span><ul class=\"toc-item\"><li><span><a href=\"#Вывод-4:\" data-toc-modified-id=\"Вывод-4:-3.4.1\"><span class=\"toc-item-num\">3.4.1&nbsp;&nbsp;</span>Вывод 4:</a></span></li></ul></li></ul></li><li><span><a href=\"#Общий-вывод:\" data-toc-modified-id=\"Общий-вывод:-4\"><span class=\"toc-item-num\">4&nbsp;&nbsp;</span>Общий вывод:</a></span></li></ul></div>"
   ]
  },
  {
   "cell_type": "markdown",
   "id": "1a3ba060",
   "metadata": {},
   "source": [
    "# Исследование надежности заемщиков."
   ]
  },
  {
   "cell_type": "markdown",
   "id": "3af19c25",
   "metadata": {},
   "source": [
    "Необходимо разобраться, влияет ли семейное положение и количество детей клиента на факт погашения кредита в срок. Входные данные от банка — статистика о платёжеспособности клиентов.\n",
    "Результаты исследования будут учтены при построении модели кредитного скоринга — специальной системы, которая оценивает способность потенциального заёмщика вернуть кредит банку.\n",
    "По результатам исследования, требуется ответить на следующие вопросы:\n",
    "* Есть ли зависимость между количеством детей и возвратом кредита в срок?\n",
    "* Есть ли зависимость между семейным положением и возвратом кредита в срок?\n",
    "* Есть ли зависимость между уровнем дохода и возвратом кредита в срок?\n",
    "* Как разные цели кредита влияют на его возврат в срок?"
   ]
  },
  {
   "cell_type": "markdown",
   "id": "0b5b891c",
   "metadata": {},
   "source": [
    "## Обзор данных"
   ]
  },
  {
   "cell_type": "markdown",
   "id": "2a0f3e23",
   "metadata": {},
   "source": [
    "Импортируем библиотеки Pandas, Numpy:"
   ]
  },
  {
   "cell_type": "code",
   "execution_count": 1,
   "id": "1535504c",
   "metadata": {},
   "outputs": [],
   "source": [
    "import pandas as pd\n",
    "import numpy as np"
   ]
  },
  {
   "cell_type": "markdown",
   "id": "c026cd63",
   "metadata": {},
   "source": [
    "Откроем представленные входные данные от банка с рассмотрением общей информации о данных и выводом первых 10 строк таблицы (представленным данным присвоим имя df):"
   ]
  },
  {
   "cell_type": "code",
   "execution_count": 2,
   "id": "4d0608c2",
   "metadata": {},
   "outputs": [
    {
     "name": "stdout",
     "output_type": "stream",
     "text": [
      "<class 'pandas.core.frame.DataFrame'>\n",
      "RangeIndex: 21525 entries, 0 to 21524\n",
      "Data columns (total 12 columns):\n",
      " #   Column            Non-Null Count  Dtype  \n",
      "---  ------            --------------  -----  \n",
      " 0   children          21525 non-null  int64  \n",
      " 1   days_employed     19351 non-null  float64\n",
      " 2   dob_years         21525 non-null  int64  \n",
      " 3   education         21525 non-null  object \n",
      " 4   education_id      21525 non-null  int64  \n",
      " 5   family_status     21525 non-null  object \n",
      " 6   family_status_id  21525 non-null  int64  \n",
      " 7   gender            21525 non-null  object \n",
      " 8   income_type       21525 non-null  object \n",
      " 9   debt              21525 non-null  int64  \n",
      " 10  total_income      19351 non-null  float64\n",
      " 11  purpose           21525 non-null  object \n",
      "dtypes: float64(2), int64(5), object(5)\n",
      "memory usage: 2.0+ MB\n"
     ]
    }
   ],
   "source": [
    "df = pd.read_csv('C:/projects/project_2/data.csv')\n",
    "df.info()"
   ]
  },
  {
   "cell_type": "code",
   "execution_count": 3,
   "id": "39290c88",
   "metadata": {},
   "outputs": [
    {
     "data": {
      "text/html": [
       "<div>\n",
       "<style scoped>\n",
       "    .dataframe tbody tr th:only-of-type {\n",
       "        vertical-align: middle;\n",
       "    }\n",
       "\n",
       "    .dataframe tbody tr th {\n",
       "        vertical-align: top;\n",
       "    }\n",
       "\n",
       "    .dataframe thead th {\n",
       "        text-align: right;\n",
       "    }\n",
       "</style>\n",
       "<table border=\"1\" class=\"dataframe\">\n",
       "  <thead>\n",
       "    <tr style=\"text-align: right;\">\n",
       "      <th></th>\n",
       "      <th>children</th>\n",
       "      <th>days_employed</th>\n",
       "      <th>dob_years</th>\n",
       "      <th>education</th>\n",
       "      <th>education_id</th>\n",
       "      <th>family_status</th>\n",
       "      <th>family_status_id</th>\n",
       "      <th>gender</th>\n",
       "      <th>income_type</th>\n",
       "      <th>debt</th>\n",
       "      <th>total_income</th>\n",
       "      <th>purpose</th>\n",
       "    </tr>\n",
       "  </thead>\n",
       "  <tbody>\n",
       "    <tr>\n",
       "      <th>0</th>\n",
       "      <td>1</td>\n",
       "      <td>-8437.673028</td>\n",
       "      <td>42</td>\n",
       "      <td>высшее</td>\n",
       "      <td>0</td>\n",
       "      <td>женат / замужем</td>\n",
       "      <td>0</td>\n",
       "      <td>F</td>\n",
       "      <td>сотрудник</td>\n",
       "      <td>0</td>\n",
       "      <td>253875.639453</td>\n",
       "      <td>покупка жилья</td>\n",
       "    </tr>\n",
       "    <tr>\n",
       "      <th>1</th>\n",
       "      <td>1</td>\n",
       "      <td>-4024.803754</td>\n",
       "      <td>36</td>\n",
       "      <td>среднее</td>\n",
       "      <td>1</td>\n",
       "      <td>женат / замужем</td>\n",
       "      <td>0</td>\n",
       "      <td>F</td>\n",
       "      <td>сотрудник</td>\n",
       "      <td>0</td>\n",
       "      <td>112080.014102</td>\n",
       "      <td>приобретение автомобиля</td>\n",
       "    </tr>\n",
       "    <tr>\n",
       "      <th>2</th>\n",
       "      <td>0</td>\n",
       "      <td>-5623.422610</td>\n",
       "      <td>33</td>\n",
       "      <td>Среднее</td>\n",
       "      <td>1</td>\n",
       "      <td>женат / замужем</td>\n",
       "      <td>0</td>\n",
       "      <td>M</td>\n",
       "      <td>сотрудник</td>\n",
       "      <td>0</td>\n",
       "      <td>145885.952297</td>\n",
       "      <td>покупка жилья</td>\n",
       "    </tr>\n",
       "    <tr>\n",
       "      <th>3</th>\n",
       "      <td>3</td>\n",
       "      <td>-4124.747207</td>\n",
       "      <td>32</td>\n",
       "      <td>среднее</td>\n",
       "      <td>1</td>\n",
       "      <td>женат / замужем</td>\n",
       "      <td>0</td>\n",
       "      <td>M</td>\n",
       "      <td>сотрудник</td>\n",
       "      <td>0</td>\n",
       "      <td>267628.550329</td>\n",
       "      <td>дополнительное образование</td>\n",
       "    </tr>\n",
       "    <tr>\n",
       "      <th>4</th>\n",
       "      <td>0</td>\n",
       "      <td>340266.072047</td>\n",
       "      <td>53</td>\n",
       "      <td>среднее</td>\n",
       "      <td>1</td>\n",
       "      <td>гражданский брак</td>\n",
       "      <td>1</td>\n",
       "      <td>F</td>\n",
       "      <td>пенсионер</td>\n",
       "      <td>0</td>\n",
       "      <td>158616.077870</td>\n",
       "      <td>сыграть свадьбу</td>\n",
       "    </tr>\n",
       "    <tr>\n",
       "      <th>5</th>\n",
       "      <td>0</td>\n",
       "      <td>-926.185831</td>\n",
       "      <td>27</td>\n",
       "      <td>высшее</td>\n",
       "      <td>0</td>\n",
       "      <td>гражданский брак</td>\n",
       "      <td>1</td>\n",
       "      <td>M</td>\n",
       "      <td>компаньон</td>\n",
       "      <td>0</td>\n",
       "      <td>255763.565419</td>\n",
       "      <td>покупка жилья</td>\n",
       "    </tr>\n",
       "    <tr>\n",
       "      <th>6</th>\n",
       "      <td>0</td>\n",
       "      <td>-2879.202052</td>\n",
       "      <td>43</td>\n",
       "      <td>высшее</td>\n",
       "      <td>0</td>\n",
       "      <td>женат / замужем</td>\n",
       "      <td>0</td>\n",
       "      <td>F</td>\n",
       "      <td>компаньон</td>\n",
       "      <td>0</td>\n",
       "      <td>240525.971920</td>\n",
       "      <td>операции с жильем</td>\n",
       "    </tr>\n",
       "    <tr>\n",
       "      <th>7</th>\n",
       "      <td>0</td>\n",
       "      <td>-152.779569</td>\n",
       "      <td>50</td>\n",
       "      <td>СРЕДНЕЕ</td>\n",
       "      <td>1</td>\n",
       "      <td>женат / замужем</td>\n",
       "      <td>0</td>\n",
       "      <td>M</td>\n",
       "      <td>сотрудник</td>\n",
       "      <td>0</td>\n",
       "      <td>135823.934197</td>\n",
       "      <td>образование</td>\n",
       "    </tr>\n",
       "    <tr>\n",
       "      <th>8</th>\n",
       "      <td>2</td>\n",
       "      <td>-6929.865299</td>\n",
       "      <td>35</td>\n",
       "      <td>ВЫСШЕЕ</td>\n",
       "      <td>0</td>\n",
       "      <td>гражданский брак</td>\n",
       "      <td>1</td>\n",
       "      <td>F</td>\n",
       "      <td>сотрудник</td>\n",
       "      <td>0</td>\n",
       "      <td>95856.832424</td>\n",
       "      <td>на проведение свадьбы</td>\n",
       "    </tr>\n",
       "    <tr>\n",
       "      <th>9</th>\n",
       "      <td>0</td>\n",
       "      <td>-2188.756445</td>\n",
       "      <td>41</td>\n",
       "      <td>среднее</td>\n",
       "      <td>1</td>\n",
       "      <td>женат / замужем</td>\n",
       "      <td>0</td>\n",
       "      <td>M</td>\n",
       "      <td>сотрудник</td>\n",
       "      <td>0</td>\n",
       "      <td>144425.938277</td>\n",
       "      <td>покупка жилья для семьи</td>\n",
       "    </tr>\n",
       "  </tbody>\n",
       "</table>\n",
       "</div>"
      ],
      "text/plain": [
       "   children  days_employed  dob_years education  education_id  \\\n",
       "0         1   -8437.673028         42    высшее             0   \n",
       "1         1   -4024.803754         36   среднее             1   \n",
       "2         0   -5623.422610         33   Среднее             1   \n",
       "3         3   -4124.747207         32   среднее             1   \n",
       "4         0  340266.072047         53   среднее             1   \n",
       "5         0    -926.185831         27    высшее             0   \n",
       "6         0   -2879.202052         43    высшее             0   \n",
       "7         0    -152.779569         50   СРЕДНЕЕ             1   \n",
       "8         2   -6929.865299         35    ВЫСШЕЕ             0   \n",
       "9         0   -2188.756445         41   среднее             1   \n",
       "\n",
       "      family_status  family_status_id gender income_type  debt   total_income  \\\n",
       "0   женат / замужем                 0      F   сотрудник     0  253875.639453   \n",
       "1   женат / замужем                 0      F   сотрудник     0  112080.014102   \n",
       "2   женат / замужем                 0      M   сотрудник     0  145885.952297   \n",
       "3   женат / замужем                 0      M   сотрудник     0  267628.550329   \n",
       "4  гражданский брак                 1      F   пенсионер     0  158616.077870   \n",
       "5  гражданский брак                 1      M   компаньон     0  255763.565419   \n",
       "6   женат / замужем                 0      F   компаньон     0  240525.971920   \n",
       "7   женат / замужем                 0      M   сотрудник     0  135823.934197   \n",
       "8  гражданский брак                 1      F   сотрудник     0   95856.832424   \n",
       "9   женат / замужем                 0      M   сотрудник     0  144425.938277   \n",
       "\n",
       "                      purpose  \n",
       "0               покупка жилья  \n",
       "1     приобретение автомобиля  \n",
       "2               покупка жилья  \n",
       "3  дополнительное образование  \n",
       "4             сыграть свадьбу  \n",
       "5               покупка жилья  \n",
       "6           операции с жильем  \n",
       "7                 образование  \n",
       "8       на проведение свадьбы  \n",
       "9     покупка жилья для семьи  "
      ]
     },
     "execution_count": 3,
     "metadata": {},
     "output_type": "execute_result"
    }
   ],
   "source": [
    "df.head(10)"
   ]
  },
  {
   "cell_type": "markdown",
   "id": "d92fabc5",
   "metadata": {},
   "source": [
    "Исходя из полученной документации имеется следующая информация о наименованиях столбцов:\n",
    "- **children** — количество детей в семье;\n",
    "- **days_employed** — общий трудовой стаж в днях;\n",
    "- **dob_years** — возраст клиента в годах;\n",
    "- **education** — уровень образования клиента;\n",
    "- **education_id** — идентификатор уровня образования;\n",
    "- **family_status** — семейное положение;\n",
    "- **family_status_id** — идентификатор семейного положения;\n",
    "- **gender** — пол клиента;\n",
    "- **income_type** — тип занятости;\n",
    "- **debt** — имел ли задолженность по возврату кредитов;\n",
    "- **total_income** — ежемесячный доход;\n",
    "- **purpose** — цель получения кредита."
   ]
  },
  {
   "cell_type": "markdown",
   "id": "7d8dbe3d",
   "metadata": {},
   "source": [
    "По результатам рассмотрения полученной информации о данных, отмечаем следующее:\n",
    "- имеются пропуски в столбце 'days_employed';\n",
    "- имеются пропуски в столбце 'total_income';\n",
    "- данные столбца 'education' заполнены различным регистром, но при этом имеется столбец education_id (предварительно можно сказать (в дальнейшем требует проверки), что '0' - при наличии высшего, '1' - при наличии среднего образования);\n",
    "- данные в столбце 'days_employed' имеют частично отрицательные значения, что не соответствует описанию столбца"
   ]
  },
  {
   "cell_type": "markdown",
   "id": "2282235d",
   "metadata": {},
   "source": [
    "## Предобработка данных"
   ]
  },
  {
   "cell_type": "markdown",
   "id": "2a4367ea",
   "metadata": {},
   "source": [
    "### Работа со столбцами, имеющими пропуски"
   ]
  },
  {
   "cell_type": "markdown",
   "id": "8b462896",
   "metadata": {},
   "source": [
    "В имеющихся данных пропуски присутствуют в двух столбцах: 'days_employed', 'total_income'. Так как целями исследования определена необходимость определения зависимости возврата от уровня дохода, целесообразно начать устранение пропусков со столбца 'total_income'."
   ]
  },
  {
   "cell_type": "markdown",
   "id": "c9575b33",
   "metadata": {},
   "source": [
    "#### Устранение пропусков в столбце 'total_income'."
   ]
  },
  {
   "cell_type": "markdown",
   "id": "56495adb",
   "metadata": {},
   "source": [
    "Предварительно рассмотрим выборку первых пяти строк с пропущенными значениями в столбце 'total_income':"
   ]
  },
  {
   "cell_type": "code",
   "execution_count": 4,
   "id": "a90229a4",
   "metadata": {
    "scrolled": true
   },
   "outputs": [
    {
     "data": {
      "text/html": [
       "<div>\n",
       "<style scoped>\n",
       "    .dataframe tbody tr th:only-of-type {\n",
       "        vertical-align: middle;\n",
       "    }\n",
       "\n",
       "    .dataframe tbody tr th {\n",
       "        vertical-align: top;\n",
       "    }\n",
       "\n",
       "    .dataframe thead th {\n",
       "        text-align: right;\n",
       "    }\n",
       "</style>\n",
       "<table border=\"1\" class=\"dataframe\">\n",
       "  <thead>\n",
       "    <tr style=\"text-align: right;\">\n",
       "      <th></th>\n",
       "      <th>children</th>\n",
       "      <th>days_employed</th>\n",
       "      <th>dob_years</th>\n",
       "      <th>education</th>\n",
       "      <th>education_id</th>\n",
       "      <th>family_status</th>\n",
       "      <th>family_status_id</th>\n",
       "      <th>gender</th>\n",
       "      <th>income_type</th>\n",
       "      <th>debt</th>\n",
       "      <th>total_income</th>\n",
       "      <th>purpose</th>\n",
       "    </tr>\n",
       "  </thead>\n",
       "  <tbody>\n",
       "    <tr>\n",
       "      <th>12</th>\n",
       "      <td>0</td>\n",
       "      <td>NaN</td>\n",
       "      <td>65</td>\n",
       "      <td>среднее</td>\n",
       "      <td>1</td>\n",
       "      <td>гражданский брак</td>\n",
       "      <td>1</td>\n",
       "      <td>M</td>\n",
       "      <td>пенсионер</td>\n",
       "      <td>0</td>\n",
       "      <td>NaN</td>\n",
       "      <td>сыграть свадьбу</td>\n",
       "    </tr>\n",
       "    <tr>\n",
       "      <th>26</th>\n",
       "      <td>0</td>\n",
       "      <td>NaN</td>\n",
       "      <td>41</td>\n",
       "      <td>среднее</td>\n",
       "      <td>1</td>\n",
       "      <td>женат / замужем</td>\n",
       "      <td>0</td>\n",
       "      <td>M</td>\n",
       "      <td>госслужащий</td>\n",
       "      <td>0</td>\n",
       "      <td>NaN</td>\n",
       "      <td>образование</td>\n",
       "    </tr>\n",
       "    <tr>\n",
       "      <th>29</th>\n",
       "      <td>0</td>\n",
       "      <td>NaN</td>\n",
       "      <td>63</td>\n",
       "      <td>среднее</td>\n",
       "      <td>1</td>\n",
       "      <td>Не женат / не замужем</td>\n",
       "      <td>4</td>\n",
       "      <td>F</td>\n",
       "      <td>пенсионер</td>\n",
       "      <td>0</td>\n",
       "      <td>NaN</td>\n",
       "      <td>строительство жилой недвижимости</td>\n",
       "    </tr>\n",
       "    <tr>\n",
       "      <th>41</th>\n",
       "      <td>0</td>\n",
       "      <td>NaN</td>\n",
       "      <td>50</td>\n",
       "      <td>среднее</td>\n",
       "      <td>1</td>\n",
       "      <td>женат / замужем</td>\n",
       "      <td>0</td>\n",
       "      <td>F</td>\n",
       "      <td>госслужащий</td>\n",
       "      <td>0</td>\n",
       "      <td>NaN</td>\n",
       "      <td>сделка с подержанным автомобилем</td>\n",
       "    </tr>\n",
       "    <tr>\n",
       "      <th>55</th>\n",
       "      <td>0</td>\n",
       "      <td>NaN</td>\n",
       "      <td>54</td>\n",
       "      <td>среднее</td>\n",
       "      <td>1</td>\n",
       "      <td>гражданский брак</td>\n",
       "      <td>1</td>\n",
       "      <td>F</td>\n",
       "      <td>пенсионер</td>\n",
       "      <td>1</td>\n",
       "      <td>NaN</td>\n",
       "      <td>сыграть свадьбу</td>\n",
       "    </tr>\n",
       "  </tbody>\n",
       "</table>\n",
       "</div>"
      ],
      "text/plain": [
       "    children  days_employed  dob_years education  education_id  \\\n",
       "12         0            NaN         65   среднее             1   \n",
       "26         0            NaN         41   среднее             1   \n",
       "29         0            NaN         63   среднее             1   \n",
       "41         0            NaN         50   среднее             1   \n",
       "55         0            NaN         54   среднее             1   \n",
       "\n",
       "            family_status  family_status_id gender  income_type  debt  \\\n",
       "12       гражданский брак                 1      M    пенсионер     0   \n",
       "26        женат / замужем                 0      M  госслужащий     0   \n",
       "29  Не женат / не замужем                 4      F    пенсионер     0   \n",
       "41        женат / замужем                 0      F  госслужащий     0   \n",
       "55       гражданский брак                 1      F    пенсионер     1   \n",
       "\n",
       "    total_income                           purpose  \n",
       "12           NaN                   сыграть свадьбу  \n",
       "26           NaN                       образование  \n",
       "29           NaN  строительство жилой недвижимости  \n",
       "41           NaN  сделка с подержанным автомобилем  \n",
       "55           NaN                   сыграть свадьбу  "
      ]
     },
     "execution_count": 4,
     "metadata": {},
     "output_type": "execute_result"
    }
   ],
   "source": [
    "df[df['total_income'].isna()].head()"
   ]
  },
  {
   "cell_type": "markdown",
   "id": "eba6d2ab",
   "metadata": {},
   "source": [
    "Строки с пропусками в столбце  'total_income' в выведенной части таблицы имеют значение NaN также и в столбце 'days_employed'. Проверим, соответствуют ли пропуски в ячейках указанных столбцов для остального датафрейма: "
   ]
  },
  {
   "cell_type": "code",
   "execution_count": 5,
   "id": "663fb3e7",
   "metadata": {},
   "outputs": [
    {
     "name": "stdout",
     "output_type": "stream",
     "text": [
      "\n",
      " Количество пропусков в столбце 'total_income' = 2174 \n",
      " Доля пропусков в столбце 'total_income' от общего количества строк = 0.10099883855981417 \n",
      " Количество пропусков в столбце 'days_employed' = 2174 \n",
      " Количество строк с пропусками по всей таблице = 2174\n"
     ]
    }
   ],
   "source": [
    "print('\\n',\n",
    "    'Количество пропусков в столбце \\'total_income\\' =', df['total_income'].isna().sum(),'\\n',\n",
    "    'Доля пропусков в столбце \\'total_income\\' от общего количества строк =', df['total_income'].isna().mean(),'\\n', \n",
    "    'Количество пропусков в столбце \\'days_employed\\' =', df['days_employed'].isna().sum(),'\\n',\n",
    "    'Количество строк с пропусками по всей таблице =', len(df[df.isna().any(1)]))"
   ]
  },
  {
   "cell_type": "markdown",
   "id": "11ac290e",
   "metadata": {},
   "source": [
    "Количество строк, в которых есть пропущенные значения для столбцов 'total_income', 'days_employed' и всей таблицы одинаково, что говорит о том, что указанные столбцы имеют пропуски в одних и тех же строках. "
   ]
  },
  {
   "cell_type": "markdown",
   "id": "63c3e91c",
   "metadata": {},
   "source": [
    "С целью определения целесообразного способа заполнения пропущенных значений, рассмотрим в каком диапазоне лежат значения ячеек, а также среднее и медианное значения столбца:"
   ]
  },
  {
   "cell_type": "code",
   "execution_count": 6,
   "id": "dcfbf7a4",
   "metadata": {},
   "outputs": [
    {
     "name": "stdout",
     "output_type": "stream",
     "text": [
      "\n",
      " Минимальное значение в столбце 'total_income' = 20667.26379327158 \n",
      " Максимальное значение в столбце 'total_income' = 2265604.028722744 \n",
      " Среднее значение в столбце 'total_income' = 167422.30220817294 \n",
      " Медианное значение в столбце 'total_income' = 145017.93753253992 \n",
      "\n"
     ]
    }
   ],
   "source": [
    "print('\\n',\n",
    "    'Минимальное значение в столбце \\'total_income\\' =', min(df['total_income']),'\\n',\n",
    "    'Максимальное значение в столбце \\'total_income\\' =', max(df['total_income']),'\\n',\n",
    "    'Среднее значение в столбце \\'total_income\\' =', df['total_income'].mean(),'\\n',\n",
    "    'Медианное значение в столбце \\'total_income\\' =', df['total_income'].median(),'\\n',)"
   ]
  },
  {
   "cell_type": "markdown",
   "id": "24b36d19",
   "metadata": {},
   "source": [
    "Так как значения ячеек столбца 'total_income' различаются более чем на 2 порядка, целесообразно заполнять пропущенные значения медианными:"
   ]
  },
  {
   "cell_type": "code",
   "execution_count": 7,
   "id": "41c27d71",
   "metadata": {},
   "outputs": [],
   "source": [
    "df['total_income'] = df['total_income'].fillna(df['total_income'].median())"
   ]
  },
  {
   "cell_type": "markdown",
   "id": "1d32b3da",
   "metadata": {},
   "source": [
    "Убедимся в отсутствии пропусков в столбце:"
   ]
  },
  {
   "cell_type": "code",
   "execution_count": 8,
   "id": "d4ae85cb",
   "metadata": {},
   "outputs": [
    {
     "data": {
      "text/plain": [
       "0"
      ]
     },
     "execution_count": 8,
     "metadata": {},
     "output_type": "execute_result"
    }
   ],
   "source": [
    "df['total_income'].isna().sum()"
   ]
  },
  {
   "cell_type": "markdown",
   "id": "70419269",
   "metadata": {},
   "source": [
    "#### Работа с аномалиями и устранение пропусков в столбце 'days_employed'."
   ]
  },
  {
   "cell_type": "markdown",
   "id": "561cc090",
   "metadata": {},
   "source": [
    "В соответствии с целью выполнения работ в настоящем проекте, данные столбца 'days_employed' находятся вне границ заданных вопросов. Однако указанный столбец содержит следующие аномалии, причины которых целесообразно определить (и устранить) для возможности работы с данными в дальнейшем при необходимости:\n",
    "- положительные значения слишком велики (в первых 10 строках таблицы имеется одно положительное значение, равное 340266, т.е. почти 1000 лет);\n",
    "- ряд значений отрицательны (очевидно, что трудовой стаж не может быть отрицательным);\n",
    "- в столбце ряд строк имеет пропуски (пропуски имеются в тех же строках, в которых пропущены значения в столбце 'total_income')."
   ]
  },
  {
   "cell_type": "markdown",
   "id": "b77e217b",
   "metadata": {},
   "source": [
    "##### Рассмотрение категорий клиентов по типу занятости,  для которых стаж указан как положительное число:"
   ]
  },
  {
   "cell_type": "code",
   "execution_count": 9,
   "id": "a65f752c",
   "metadata": {
    "scrolled": true
   },
   "outputs": [
    {
     "data": {
      "text/html": [
       "<div>\n",
       "<style scoped>\n",
       "    .dataframe tbody tr th:only-of-type {\n",
       "        vertical-align: middle;\n",
       "    }\n",
       "\n",
       "    .dataframe tbody tr th {\n",
       "        vertical-align: top;\n",
       "    }\n",
       "\n",
       "    .dataframe thead th {\n",
       "        text-align: right;\n",
       "    }\n",
       "</style>\n",
       "<table border=\"1\" class=\"dataframe\">\n",
       "  <thead>\n",
       "    <tr style=\"text-align: right;\">\n",
       "      <th></th>\n",
       "      <th>count</th>\n",
       "      <th>min</th>\n",
       "      <th>mean</th>\n",
       "      <th>max</th>\n",
       "    </tr>\n",
       "    <tr>\n",
       "      <th>income_type</th>\n",
       "      <th></th>\n",
       "      <th></th>\n",
       "      <th></th>\n",
       "      <th></th>\n",
       "    </tr>\n",
       "  </thead>\n",
       "  <tbody>\n",
       "    <tr>\n",
       "      <th>безработный</th>\n",
       "      <td>2</td>\n",
       "      <td>337524.466835</td>\n",
       "      <td>366413.652744</td>\n",
       "      <td>395302.838654</td>\n",
       "    </tr>\n",
       "    <tr>\n",
       "      <th>пенсионер</th>\n",
       "      <td>3443</td>\n",
       "      <td>328728.720605</td>\n",
       "      <td>365003.491245</td>\n",
       "      <td>401755.400475</td>\n",
       "    </tr>\n",
       "  </tbody>\n",
       "</table>\n",
       "</div>"
      ],
      "text/plain": [
       "             count            min           mean            max\n",
       "income_type                                                    \n",
       "безработный      2  337524.466835  366413.652744  395302.838654\n",
       "пенсионер     3443  328728.720605  365003.491245  401755.400475"
      ]
     },
     "execution_count": 9,
     "metadata": {},
     "output_type": "execute_result"
    }
   ],
   "source": [
    "days_pos = df.loc[df['days_employed']>0]\n",
    "days_pos.groupby('income_type')['days_employed'].agg(['count','min','mean','max'])"
   ]
  },
  {
   "cell_type": "markdown",
   "id": "90bcfe72",
   "metadata": {},
   "source": [
    "Т.е. строки, в которых в качестве стажа указано положительное число (все положительные числа имеют величину, значительно превышающую продолжительность жизни), относятся к клиентов двух типов (по типу занятости): безработные и пенсионеры. <br>Рассмотрим, сколько всего строк относятся к занятости данного типа и количество пропусков в них (при необходимости):"
   ]
  },
  {
   "cell_type": "code",
   "execution_count": 10,
   "id": "7e28ebda",
   "metadata": {},
   "outputs": [
    {
     "data": {
      "text/plain": [
       "3856"
      ]
     },
     "execution_count": 10,
     "metadata": {},
     "output_type": "execute_result"
    }
   ],
   "source": [
    "df.loc[df['income_type']=='пенсионер']['income_type'].count()"
   ]
  },
  {
   "cell_type": "code",
   "execution_count": 11,
   "id": "e8182128",
   "metadata": {},
   "outputs": [
    {
     "data": {
      "text/plain": [
       "2"
      ]
     },
     "execution_count": 11,
     "metadata": {},
     "output_type": "execute_result"
    }
   ],
   "source": [
    "df.loc[df['income_type']=='безработный']['income_type'].count()"
   ]
  },
  {
   "cell_type": "code",
   "execution_count": 12,
   "id": "c100759a",
   "metadata": {},
   "outputs": [
    {
     "data": {
      "text/plain": [
       "sum     413.000000\n",
       "mean      0.107106\n",
       "Name: days_employed, dtype: float64"
      ]
     },
     "execution_count": 12,
     "metadata": {},
     "output_type": "execute_result"
    }
   ],
   "source": [
    "df.loc[df['income_type']=='пенсионер']['days_employed'].isna().agg(['sum','mean'])"
   ]
  },
  {
   "cell_type": "markdown",
   "id": "d3b83617",
   "metadata": {},
   "source": [
    "**Исходя из полученной информации, очевиден следующий вывод: большие положительные значения стажа являются результатом автозаполнения для клиентов, не имеющих текущий трудовой стаж. Выполним замену данных значений на 0:** "
   ]
  },
  {
   "cell_type": "code",
   "execution_count": 13,
   "id": "1141c2e7",
   "metadata": {},
   "outputs": [],
   "source": [
    "df.loc[(df['days_employed']>0), 'days_employed'] = 0"
   ]
  },
  {
   "cell_type": "markdown",
   "id": "fc0fe517",
   "metadata": {},
   "source": [
    "##### Определение причин наличия отрицательных значений в столбце 'days_employed'."
   ]
  },
  {
   "cell_type": "markdown",
   "id": "f4a8df9c",
   "metadata": {},
   "source": [
    "Рассмотрим сгруппированную по типу занятости таблицу, в которых стаж указан как отрицательное число:"
   ]
  },
  {
   "cell_type": "code",
   "execution_count": 14,
   "id": "9ffac867",
   "metadata": {
    "scrolled": true
   },
   "outputs": [
    {
     "data": {
      "text/html": [
       "<div>\n",
       "<style scoped>\n",
       "    .dataframe tbody tr th:only-of-type {\n",
       "        vertical-align: middle;\n",
       "    }\n",
       "\n",
       "    .dataframe tbody tr th {\n",
       "        vertical-align: top;\n",
       "    }\n",
       "\n",
       "    .dataframe thead th {\n",
       "        text-align: right;\n",
       "    }\n",
       "</style>\n",
       "<table border=\"1\" class=\"dataframe\">\n",
       "  <thead>\n",
       "    <tr style=\"text-align: right;\">\n",
       "      <th></th>\n",
       "      <th>count</th>\n",
       "      <th>min</th>\n",
       "      <th>mean</th>\n",
       "      <th>max</th>\n",
       "    </tr>\n",
       "    <tr>\n",
       "      <th>income_type</th>\n",
       "      <th></th>\n",
       "      <th></th>\n",
       "      <th></th>\n",
       "      <th></th>\n",
       "    </tr>\n",
       "  </thead>\n",
       "  <tbody>\n",
       "    <tr>\n",
       "      <th>в декрете</th>\n",
       "      <td>1</td>\n",
       "      <td>-3296.759962</td>\n",
       "      <td>-3296.759962</td>\n",
       "      <td>-3296.759962</td>\n",
       "    </tr>\n",
       "    <tr>\n",
       "      <th>госслужащий</th>\n",
       "      <td>1312</td>\n",
       "      <td>-15193.032201</td>\n",
       "      <td>-3399.896902</td>\n",
       "      <td>-39.954170</td>\n",
       "    </tr>\n",
       "    <tr>\n",
       "      <th>компаньон</th>\n",
       "      <td>4577</td>\n",
       "      <td>-17615.563266</td>\n",
       "      <td>-2111.524398</td>\n",
       "      <td>-30.195337</td>\n",
       "    </tr>\n",
       "    <tr>\n",
       "      <th>предприниматель</th>\n",
       "      <td>1</td>\n",
       "      <td>-520.848083</td>\n",
       "      <td>-520.848083</td>\n",
       "      <td>-520.848083</td>\n",
       "    </tr>\n",
       "    <tr>\n",
       "      <th>сотрудник</th>\n",
       "      <td>10014</td>\n",
       "      <td>-18388.949901</td>\n",
       "      <td>-2326.499216</td>\n",
       "      <td>-24.141633</td>\n",
       "    </tr>\n",
       "    <tr>\n",
       "      <th>студент</th>\n",
       "      <td>1</td>\n",
       "      <td>-578.751554</td>\n",
       "      <td>-578.751554</td>\n",
       "      <td>-578.751554</td>\n",
       "    </tr>\n",
       "  </tbody>\n",
       "</table>\n",
       "</div>"
      ],
      "text/plain": [
       "                 count           min         mean          max\n",
       "income_type                                                   \n",
       "в декрете            1  -3296.759962 -3296.759962 -3296.759962\n",
       "госслужащий       1312 -15193.032201 -3399.896902   -39.954170\n",
       "компаньон         4577 -17615.563266 -2111.524398   -30.195337\n",
       "предприниматель      1   -520.848083  -520.848083  -520.848083\n",
       "сотрудник        10014 -18388.949901 -2326.499216   -24.141633\n",
       "студент              1   -578.751554  -578.751554  -578.751554"
      ]
     },
     "execution_count": 14,
     "metadata": {},
     "output_type": "execute_result"
    }
   ],
   "source": [
    "days_pos = df.loc[df['days_employed']<0]\n",
    "days_pos.groupby('income_type')['days_employed'].agg(['count','min','mean','max'])"
   ]
  },
  {
   "cell_type": "markdown",
   "id": "9159d9d1",
   "metadata": {},
   "source": [
    "**Очевидно, что отрицательное значение стажа в днях является результатом автоматического определения стажа исходя из даты начала трудовой деятельности (т.е. клиентем заполняется дата начала трудовой деятельности, а значение в столбец записывается исходя из даты его формирования и т.к. дата является прошедшим событием, то число имеет знак '-'). Заменим отрицательные значения на их значения по модулю:**"
   ]
  },
  {
   "cell_type": "code",
   "execution_count": 15,
   "id": "c04ed178",
   "metadata": {},
   "outputs": [],
   "source": [
    "df['days_employed'] = df['days_employed'].abs()"
   ]
  },
  {
   "cell_type": "markdown",
   "id": "57d35413",
   "metadata": {},
   "source": [
    "##### Определение алгоритма работы с пропусками в столбце 'days_employed'."
   ]
  },
  {
   "cell_type": "markdown",
   "id": "64d196c3",
   "metadata": {},
   "source": [
    "**Заполнение пропущенных значений столбца 'days_employed' целесообразно выполнять следующим образом:**\n",
    "- **часть пропусков (порядка 11%) в строках клиентов с категорией занятости 'пенсионер', целесообразно заполнять нулевыми значениями;**\n",
    "- **остальные пропуски целесообразно заполнять медианным значением по столбцу 'days_employed'.** \n",
    "<br>Выполним указанное заполнение:"
   ]
  },
  {
   "cell_type": "code",
   "execution_count": 16,
   "id": "d8645a15",
   "metadata": {},
   "outputs": [],
   "source": [
    "df.loc[df['income_type']=='пенсионер', 'days_employed'] = 0"
   ]
  },
  {
   "cell_type": "code",
   "execution_count": 17,
   "id": "e983fef7",
   "metadata": {},
   "outputs": [],
   "source": [
    "df['days_employed'] = df['days_employed'].fillna(df['days_employed'].median())"
   ]
  },
  {
   "cell_type": "markdown",
   "id": "16d36fad",
   "metadata": {},
   "source": [
    "Для удобства дальнейше работы (если будет такая необходимость), приведем тип данных столбца к целочисленному:"
   ]
  },
  {
   "cell_type": "code",
   "execution_count": 18,
   "id": "2eddf00c",
   "metadata": {},
   "outputs": [],
   "source": [
    "df = df.astype({'days_employed': 'int64'})"
   ]
  },
  {
   "cell_type": "markdown",
   "id": "cc33e375",
   "metadata": {},
   "source": [
    "### Проверка данных на аномалии и исправления."
   ]
  },
  {
   "cell_type": "markdown",
   "id": "19420fe1",
   "metadata": {},
   "source": [
    "Исходя из цели проведения работы, необходима проверка наличия аномалий в следующих столбцах:\n",
    "- 'children' — количество детей в семье;\n",
    "- 'family_status' — семейное положение (в том числе совместно со столбцом 'family_status_id');\n",
    "- 'total_income' — ежемесячный доход;\n",
    "- 'purpose' — цель получения кредита."
   ]
  },
  {
   "cell_type": "markdown",
   "id": "17feef7c",
   "metadata": {},
   "source": [
    "#### Проверка наличия аномалий в столбце 'children'."
   ]
  },
  {
   "cell_type": "markdown",
   "id": "30469376",
   "metadata": {},
   "source": [
    "Выведем перечень значений столбца 'chilren', встречающийся в таблице:"
   ]
  },
  {
   "cell_type": "code",
   "execution_count": 19,
   "id": "564933df",
   "metadata": {},
   "outputs": [
    {
     "data": {
      "text/plain": [
       "array([ 1,  0,  3,  2, -1,  4, 20,  5], dtype=int64)"
      ]
     },
     "execution_count": 19,
     "metadata": {},
     "output_type": "execute_result"
    }
   ],
   "source": [
    "df['children'].unique()"
   ]
  },
  {
   "cell_type": "markdown",
   "id": "ec044349",
   "metadata": {},
   "source": [
    "Распределение клиентов по количеству детей:"
   ]
  },
  {
   "cell_type": "code",
   "execution_count": 20,
   "id": "68627bb3",
   "metadata": {},
   "outputs": [
    {
     "data": {
      "text/plain": [
       " 0     14149\n",
       " 1      4818\n",
       " 2      2055\n",
       " 3       330\n",
       " 20       76\n",
       "-1        47\n",
       " 4        41\n",
       " 5         9\n",
       "Name: children, dtype: int64"
      ]
     },
     "execution_count": 20,
     "metadata": {},
     "output_type": "execute_result"
    }
   ],
   "source": [
    "df['children'].value_counts()"
   ]
  },
  {
   "cell_type": "markdown",
   "id": "3e81fac8",
   "metadata": {},
   "source": [
    "**Представленное распределение показывает, что имеются очевидно ошибочные данные в столбце: -1 (значение не может быть отрицательным), 20 (76 случаев семей с количеством в 20 детей при отстутсвии строк мс количеством между 5 и 20 также очевидно неверно). Заменим ошибочно внесенные данные на медианные:**"
   ]
  },
  {
   "cell_type": "code",
   "execution_count": 21,
   "id": "9773b778",
   "metadata": {},
   "outputs": [
    {
     "data": {
      "text/plain": [
       "0.0"
      ]
     },
     "execution_count": 21,
     "metadata": {},
     "output_type": "execute_result"
    }
   ],
   "source": [
    "df['children'].median()"
   ]
  },
  {
   "cell_type": "code",
   "execution_count": 22,
   "id": "3ae1949f",
   "metadata": {},
   "outputs": [],
   "source": [
    "df.loc[(df['children']==20), 'children'] = df['children'].median()\n",
    "df.loc[(df['children']==-1), 'children'] = df['children'].median()"
   ]
  },
  {
   "cell_type": "markdown",
   "id": "cc5b6b2a",
   "metadata": {},
   "source": [
    "Проверим результативность выполненной операции:"
   ]
  },
  {
   "cell_type": "code",
   "execution_count": 23,
   "id": "be79f9a3",
   "metadata": {},
   "outputs": [
    {
     "data": {
      "text/plain": [
       "array([1., 0., 3., 2., 4., 5.])"
      ]
     },
     "execution_count": 23,
     "metadata": {},
     "output_type": "execute_result"
    }
   ],
   "source": [
    "df['children'].unique()"
   ]
  },
  {
   "cell_type": "markdown",
   "id": "06d5d773",
   "metadata": {},
   "source": [
    "Вернем значения столбца к целочисленному виду: "
   ]
  },
  {
   "cell_type": "code",
   "execution_count": 24,
   "id": "1d2591e8",
   "metadata": {},
   "outputs": [],
   "source": [
    "df = df.astype({'children': 'int64'})"
   ]
  },
  {
   "cell_type": "markdown",
   "id": "123ef492",
   "metadata": {},
   "source": [
    "#### Проверка наличия аномалий в столбце 'family_status' ('family_status_id')."
   ]
  },
  {
   "cell_type": "markdown",
   "id": "c3e6a579",
   "metadata": {},
   "source": [
    "Выведем перечень значений столбца 'family_status' ('family_status_id'), встречающийся в таблице:"
   ]
  },
  {
   "cell_type": "code",
   "execution_count": 25,
   "id": "43a0c863",
   "metadata": {
    "scrolled": true
   },
   "outputs": [
    {
     "name": "stdout",
     "output_type": "stream",
     "text": [
      "['женат / замужем' 'гражданский брак' 'вдовец / вдова' 'в разводе'\n",
      " 'Не женат / не замужем'] [0 1 2 3 4]\n"
     ]
    }
   ],
   "source": [
    "print(df['family_status'].unique(), df['family_status_id'].unique())"
   ]
  },
  {
   "cell_type": "code",
   "execution_count": 26,
   "id": "575b94b4",
   "metadata": {},
   "outputs": [
    {
     "data": {
      "text/plain": [
       "0    12380\n",
       "1     4177\n",
       "4     2813\n",
       "3     1195\n",
       "2      960\n",
       "Name: family_status_id, dtype: int64"
      ]
     },
     "execution_count": 26,
     "metadata": {},
     "output_type": "execute_result"
    }
   ],
   "source": [
    "df['family_status_id'].value_counts()"
   ]
  },
  {
   "cell_type": "markdown",
   "id": "1f8167e6",
   "metadata": {},
   "source": [
    "Рассмотрим, как эти значения соотносятся между собой (с оценкой их распределения):"
   ]
  },
  {
   "cell_type": "code",
   "execution_count": 27,
   "id": "a4b03f83",
   "metadata": {},
   "outputs": [],
   "source": [
    "family_table = pd.pivot_table(df,values='income_type', index=['family_status','family_status_id'],aggfunc='count')"
   ]
  },
  {
   "cell_type": "code",
   "execution_count": 28,
   "id": "10cc95c0",
   "metadata": {},
   "outputs": [
    {
     "data": {
      "text/html": [
       "<div>\n",
       "<style scoped>\n",
       "    .dataframe tbody tr th:only-of-type {\n",
       "        vertical-align: middle;\n",
       "    }\n",
       "\n",
       "    .dataframe tbody tr th {\n",
       "        vertical-align: top;\n",
       "    }\n",
       "\n",
       "    .dataframe thead th {\n",
       "        text-align: right;\n",
       "    }\n",
       "</style>\n",
       "<table border=\"1\" class=\"dataframe\">\n",
       "  <thead>\n",
       "    <tr style=\"text-align: right;\">\n",
       "      <th></th>\n",
       "      <th></th>\n",
       "      <th>income_type</th>\n",
       "    </tr>\n",
       "    <tr>\n",
       "      <th>family_status</th>\n",
       "      <th>family_status_id</th>\n",
       "      <th></th>\n",
       "    </tr>\n",
       "  </thead>\n",
       "  <tbody>\n",
       "    <tr>\n",
       "      <th>Не женат / не замужем</th>\n",
       "      <th>4</th>\n",
       "      <td>2813</td>\n",
       "    </tr>\n",
       "    <tr>\n",
       "      <th>в разводе</th>\n",
       "      <th>3</th>\n",
       "      <td>1195</td>\n",
       "    </tr>\n",
       "    <tr>\n",
       "      <th>вдовец / вдова</th>\n",
       "      <th>2</th>\n",
       "      <td>960</td>\n",
       "    </tr>\n",
       "    <tr>\n",
       "      <th>гражданский брак</th>\n",
       "      <th>1</th>\n",
       "      <td>4177</td>\n",
       "    </tr>\n",
       "    <tr>\n",
       "      <th>женат / замужем</th>\n",
       "      <th>0</th>\n",
       "      <td>12380</td>\n",
       "    </tr>\n",
       "  </tbody>\n",
       "</table>\n",
       "</div>"
      ],
      "text/plain": [
       "                                        income_type\n",
       "family_status         family_status_id             \n",
       "Не женат / не замужем 4                        2813\n",
       "в разводе             3                        1195\n",
       "вдовец / вдова        2                         960\n",
       "гражданский брак      1                        4177\n",
       "женат / замужем       0                       12380"
      ]
     },
     "execution_count": 28,
     "metadata": {},
     "output_type": "execute_result"
    }
   ],
   "source": [
    "family_table"
   ]
  },
  {
   "cell_type": "markdown",
   "id": "82edc838",
   "metadata": {},
   "source": [
    "**Аномалии в столбце 'family_status' ('family_status_id') не выявлены.**"
   ]
  },
  {
   "cell_type": "markdown",
   "id": "c892910a",
   "metadata": {},
   "source": [
    "#### Проверка наличия аномалий в столбце 'total_income'."
   ]
  },
  {
   "cell_type": "markdown",
   "id": "02f2b059",
   "metadata": {},
   "source": [
    "Диапазон значений столбца 'total_income' рассматривался в п. 2.1.1, в соответстии с которым аномалии выявлены не были. <br>Рассмотрим распределение среднего дохода в зависимости от типа занятости:"
   ]
  },
  {
   "cell_type": "code",
   "execution_count": 29,
   "id": "710be620",
   "metadata": {},
   "outputs": [
    {
     "data": {
      "text/html": [
       "<div>\n",
       "<style scoped>\n",
       "    .dataframe tbody tr th:only-of-type {\n",
       "        vertical-align: middle;\n",
       "    }\n",
       "\n",
       "    .dataframe tbody tr th {\n",
       "        vertical-align: top;\n",
       "    }\n",
       "\n",
       "    .dataframe thead th {\n",
       "        text-align: right;\n",
       "    }\n",
       "</style>\n",
       "<table border=\"1\" class=\"dataframe\">\n",
       "  <thead>\n",
       "    <tr style=\"text-align: right;\">\n",
       "      <th></th>\n",
       "      <th>count</th>\n",
       "      <th>min</th>\n",
       "      <th>mean</th>\n",
       "      <th>max</th>\n",
       "    </tr>\n",
       "    <tr>\n",
       "      <th>income_type</th>\n",
       "      <th></th>\n",
       "      <th></th>\n",
       "      <th></th>\n",
       "      <th></th>\n",
       "    </tr>\n",
       "  </thead>\n",
       "  <tbody>\n",
       "    <tr>\n",
       "      <th>безработный</th>\n",
       "      <td>2</td>\n",
       "      <td>59956.991984</td>\n",
       "      <td>131339.751676</td>\n",
       "      <td>2.027225e+05</td>\n",
       "    </tr>\n",
       "    <tr>\n",
       "      <th>в декрете</th>\n",
       "      <td>1</td>\n",
       "      <td>53829.130729</td>\n",
       "      <td>53829.130729</td>\n",
       "      <td>5.382913e+04</td>\n",
       "    </tr>\n",
       "    <tr>\n",
       "      <th>госслужащий</th>\n",
       "      <td>1459</td>\n",
       "      <td>29200.077193</td>\n",
       "      <td>168290.760408</td>\n",
       "      <td>9.104515e+05</td>\n",
       "    </tr>\n",
       "    <tr>\n",
       "      <th>компаньон</th>\n",
       "      <td>5085</td>\n",
       "      <td>28702.812889</td>\n",
       "      <td>196683.153073</td>\n",
       "      <td>2.265604e+06</td>\n",
       "    </tr>\n",
       "    <tr>\n",
       "      <th>пенсионер</th>\n",
       "      <td>3856</td>\n",
       "      <td>20667.263793</td>\n",
       "      <td>137972.581061</td>\n",
       "      <td>7.351033e+05</td>\n",
       "    </tr>\n",
       "    <tr>\n",
       "      <th>предприниматель</th>\n",
       "      <td>2</td>\n",
       "      <td>145017.937533</td>\n",
       "      <td>322090.541240</td>\n",
       "      <td>4.991631e+05</td>\n",
       "    </tr>\n",
       "    <tr>\n",
       "      <th>сотрудник</th>\n",
       "      <td>11119</td>\n",
       "      <td>21367.648356</td>\n",
       "      <td>159754.181986</td>\n",
       "      <td>1.726276e+06</td>\n",
       "    </tr>\n",
       "    <tr>\n",
       "      <th>студент</th>\n",
       "      <td>1</td>\n",
       "      <td>98201.625314</td>\n",
       "      <td>98201.625314</td>\n",
       "      <td>9.820163e+04</td>\n",
       "    </tr>\n",
       "  </tbody>\n",
       "</table>\n",
       "</div>"
      ],
      "text/plain": [
       "                 count            min           mean           max\n",
       "income_type                                                       \n",
       "безработный          2   59956.991984  131339.751676  2.027225e+05\n",
       "в декрете            1   53829.130729   53829.130729  5.382913e+04\n",
       "госслужащий       1459   29200.077193  168290.760408  9.104515e+05\n",
       "компаньон         5085   28702.812889  196683.153073  2.265604e+06\n",
       "пенсионер         3856   20667.263793  137972.581061  7.351033e+05\n",
       "предприниматель      2  145017.937533  322090.541240  4.991631e+05\n",
       "сотрудник        11119   21367.648356  159754.181986  1.726276e+06\n",
       "студент              1   98201.625314   98201.625314  9.820163e+04"
      ]
     },
     "execution_count": 29,
     "metadata": {},
     "output_type": "execute_result"
    }
   ],
   "source": [
    "df.groupby('income_type')['total_income'].agg(['count','min','mean','max'])"
   ]
  },
  {
   "cell_type": "markdown",
   "id": "65f4468d",
   "metadata": {},
   "source": [
    "Аномалии в представленных значения не определены, однако целесообразно привести тип данных к целочисленным int для удобства дальнейшей работы:"
   ]
  },
  {
   "cell_type": "code",
   "execution_count": 30,
   "id": "16d1b35c",
   "metadata": {},
   "outputs": [],
   "source": [
    "df = df.astype({'total_income': 'int64'})"
   ]
  },
  {
   "cell_type": "markdown",
   "id": "9630c2ff",
   "metadata": {},
   "source": [
    "Проверим корректность выполненого действия:"
   ]
  },
  {
   "cell_type": "code",
   "execution_count": 31,
   "id": "a787849d",
   "metadata": {
    "scrolled": true
   },
   "outputs": [
    {
     "name": "stdout",
     "output_type": "stream",
     "text": [
      "<class 'pandas.core.frame.DataFrame'>\n",
      "RangeIndex: 21525 entries, 0 to 21524\n",
      "Data columns (total 12 columns):\n",
      " #   Column            Non-Null Count  Dtype \n",
      "---  ------            --------------  ----- \n",
      " 0   children          21525 non-null  int64 \n",
      " 1   days_employed     21525 non-null  int64 \n",
      " 2   dob_years         21525 non-null  int64 \n",
      " 3   education         21525 non-null  object\n",
      " 4   education_id      21525 non-null  int64 \n",
      " 5   family_status     21525 non-null  object\n",
      " 6   family_status_id  21525 non-null  int64 \n",
      " 7   gender            21525 non-null  object\n",
      " 8   income_type       21525 non-null  object\n",
      " 9   debt              21525 non-null  int64 \n",
      " 10  total_income      21525 non-null  int64 \n",
      " 11  purpose           21525 non-null  object\n",
      "dtypes: int64(7), object(5)\n",
      "memory usage: 2.0+ MB\n"
     ]
    }
   ],
   "source": [
    "df.info()"
   ]
  },
  {
   "cell_type": "code",
   "execution_count": 32,
   "id": "bffaf683",
   "metadata": {},
   "outputs": [
    {
     "data": {
      "text/html": [
       "<div>\n",
       "<style scoped>\n",
       "    .dataframe tbody tr th:only-of-type {\n",
       "        vertical-align: middle;\n",
       "    }\n",
       "\n",
       "    .dataframe tbody tr th {\n",
       "        vertical-align: top;\n",
       "    }\n",
       "\n",
       "    .dataframe thead th {\n",
       "        text-align: right;\n",
       "    }\n",
       "</style>\n",
       "<table border=\"1\" class=\"dataframe\">\n",
       "  <thead>\n",
       "    <tr style=\"text-align: right;\">\n",
       "      <th></th>\n",
       "      <th>count</th>\n",
       "      <th>min</th>\n",
       "      <th>mean</th>\n",
       "      <th>max</th>\n",
       "    </tr>\n",
       "    <tr>\n",
       "      <th>income_type</th>\n",
       "      <th></th>\n",
       "      <th></th>\n",
       "      <th></th>\n",
       "      <th></th>\n",
       "    </tr>\n",
       "  </thead>\n",
       "  <tbody>\n",
       "    <tr>\n",
       "      <th>безработный</th>\n",
       "      <td>2</td>\n",
       "      <td>59956</td>\n",
       "      <td>131339.000000</td>\n",
       "      <td>202722</td>\n",
       "    </tr>\n",
       "    <tr>\n",
       "      <th>в декрете</th>\n",
       "      <td>1</td>\n",
       "      <td>53829</td>\n",
       "      <td>53829.000000</td>\n",
       "      <td>53829</td>\n",
       "    </tr>\n",
       "    <tr>\n",
       "      <th>госслужащий</th>\n",
       "      <td>1459</td>\n",
       "      <td>29200</td>\n",
       "      <td>168290.205620</td>\n",
       "      <td>910451</td>\n",
       "    </tr>\n",
       "    <tr>\n",
       "      <th>компаньон</th>\n",
       "      <td>5085</td>\n",
       "      <td>28702</td>\n",
       "      <td>196682.615536</td>\n",
       "      <td>2265604</td>\n",
       "    </tr>\n",
       "    <tr>\n",
       "      <th>пенсионер</th>\n",
       "      <td>3856</td>\n",
       "      <td>20667</td>\n",
       "      <td>137972.038900</td>\n",
       "      <td>735103</td>\n",
       "    </tr>\n",
       "    <tr>\n",
       "      <th>предприниматель</th>\n",
       "      <td>2</td>\n",
       "      <td>145017</td>\n",
       "      <td>322090.000000</td>\n",
       "      <td>499163</td>\n",
       "    </tr>\n",
       "    <tr>\n",
       "      <th>сотрудник</th>\n",
       "      <td>11119</td>\n",
       "      <td>21367</td>\n",
       "      <td>159753.634589</td>\n",
       "      <td>1726276</td>\n",
       "    </tr>\n",
       "    <tr>\n",
       "      <th>студент</th>\n",
       "      <td>1</td>\n",
       "      <td>98201</td>\n",
       "      <td>98201.000000</td>\n",
       "      <td>98201</td>\n",
       "    </tr>\n",
       "  </tbody>\n",
       "</table>\n",
       "</div>"
      ],
      "text/plain": [
       "                 count     min           mean      max\n",
       "income_type                                           \n",
       "безработный          2   59956  131339.000000   202722\n",
       "в декрете            1   53829   53829.000000    53829\n",
       "госслужащий       1459   29200  168290.205620   910451\n",
       "компаньон         5085   28702  196682.615536  2265604\n",
       "пенсионер         3856   20667  137972.038900   735103\n",
       "предприниматель      2  145017  322090.000000   499163\n",
       "сотрудник        11119   21367  159753.634589  1726276\n",
       "студент              1   98201   98201.000000    98201"
      ]
     },
     "execution_count": 32,
     "metadata": {},
     "output_type": "execute_result"
    }
   ],
   "source": [
    "df.groupby('income_type')['total_income'].agg(['count','min','mean','max'])"
   ]
  },
  {
   "cell_type": "markdown",
   "id": "ac0df26e",
   "metadata": {},
   "source": [
    "### Изменение типов данных."
   ]
  },
  {
   "cell_type": "markdown",
   "id": "1a084ee0",
   "metadata": {},
   "source": [
    "Тип данных в столбце 'total_income' изменен в п. 2.2.3. Для других данных изменение типа не требуется"
   ]
  },
  {
   "cell_type": "markdown",
   "id": "55b20cd4",
   "metadata": {},
   "source": [
    "### Удаление дубликатов."
   ]
  },
  {
   "cell_type": "markdown",
   "id": "b8540249",
   "metadata": {},
   "source": [
    "#### Приведение к единому регистру строковых значений"
   ]
  },
  {
   "cell_type": "markdown",
   "id": "b0b5d8e0",
   "metadata": {},
   "source": [
    "До проведения работы с дубликатами целесообразно приведение к единому регистру столбцы со строковыми данными. Из не рассмотренных ранее столбцов такими являются 'education' (вывод первых 10 строк уже показал наличие различий в регистре ввода данных) и 'purpose' (вывод первых 10 строк различий регистра не показали, однако требуется проверка).\n",
    "<br>Рассмотрим перечень уникальных значений в столбце 'education':"
   ]
  },
  {
   "cell_type": "code",
   "execution_count": 33,
   "id": "14f3c363",
   "metadata": {},
   "outputs": [
    {
     "data": {
      "text/plain": [
       "среднее                13750\n",
       "высшее                  4718\n",
       "СРЕДНЕЕ                  772\n",
       "Среднее                  711\n",
       "неоконченное высшее      668\n",
       "ВЫСШЕЕ                   274\n",
       "Высшее                   268\n",
       "начальное                250\n",
       "Неоконченное высшее       47\n",
       "НЕОКОНЧЕННОЕ ВЫСШЕЕ       29\n",
       "НАЧАЛЬНОЕ                 17\n",
       "Начальное                 15\n",
       "ученая степень             4\n",
       "УЧЕНАЯ СТЕПЕНЬ             1\n",
       "Ученая степень             1\n",
       "Name: education, dtype: int64"
      ]
     },
     "execution_count": 33,
     "metadata": {},
     "output_type": "execute_result"
    }
   ],
   "source": [
    "df['education'].value_counts()"
   ]
  },
  {
   "cell_type": "markdown",
   "id": "2e233c00",
   "metadata": {},
   "source": [
    "Приведем данные значения к единому регистру:"
   ]
  },
  {
   "cell_type": "code",
   "execution_count": 34,
   "id": "2866386f",
   "metadata": {
    "scrolled": true
   },
   "outputs": [],
   "source": [
    "df['education'] = df['education'].str.lower()"
   ]
  },
  {
   "cell_type": "markdown",
   "id": "f025ff5e",
   "metadata": {},
   "source": [
    "Проверим, что значения ячеек теперь не имеют символов в разных регистрах:"
   ]
  },
  {
   "cell_type": "code",
   "execution_count": 35,
   "id": "79f4eaa9",
   "metadata": {},
   "outputs": [
    {
     "data": {
      "text/plain": [
       "среднее                15233\n",
       "высшее                  5260\n",
       "неоконченное высшее      744\n",
       "начальное                282\n",
       "ученая степень             6\n",
       "Name: education, dtype: int64"
      ]
     },
     "execution_count": 35,
     "metadata": {},
     "output_type": "execute_result"
    }
   ],
   "source": [
    "df['education'].value_counts()"
   ]
  },
  {
   "cell_type": "markdown",
   "id": "4ec421e8",
   "metadata": {},
   "source": [
    "Рассмотрим перечень уникальных значений в столбце 'purpose':"
   ]
  },
  {
   "cell_type": "code",
   "execution_count": 36,
   "id": "3a14f2a6",
   "metadata": {},
   "outputs": [
    {
     "data": {
      "text/plain": [
       "свадьба                                   797\n",
       "на проведение свадьбы                     777\n",
       "сыграть свадьбу                           774\n",
       "операции с недвижимостью                  676\n",
       "покупка коммерческой недвижимости         664\n",
       "покупка жилья для сдачи                   653\n",
       "операции с жильем                         653\n",
       "операции с коммерческой недвижимостью     651\n",
       "покупка жилья                             647\n",
       "жилье                                     647\n",
       "покупка жилья для семьи                   641\n",
       "строительство собственной недвижимости    635\n",
       "недвижимость                              634\n",
       "операции со своей недвижимостью           630\n",
       "строительство жилой недвижимости          626\n",
       "покупка недвижимости                      624\n",
       "покупка своего жилья                      620\n",
       "строительство недвижимости                620\n",
       "ремонт жилью                              612\n",
       "покупка жилой недвижимости                607\n",
       "на покупку своего автомобиля              505\n",
       "заняться высшим образованием              496\n",
       "автомобиль                                495\n",
       "сделка с подержанным автомобилем          489\n",
       "свой автомобиль                           480\n",
       "на покупку подержанного автомобиля        479\n",
       "автомобили                                478\n",
       "на покупку автомобиля                     472\n",
       "дополнительное образование                462\n",
       "приобретение автомобиля                   462\n",
       "сделка с автомобилем                      455\n",
       "высшее образование                        453\n",
       "образование                               447\n",
       "получение дополнительного образования     447\n",
       "получение образования                     443\n",
       "профильное образование                    436\n",
       "получение высшего образования             426\n",
       "заняться образованием                     412\n",
       "Name: purpose, dtype: int64"
      ]
     },
     "execution_count": 36,
     "metadata": {},
     "output_type": "execute_result"
    }
   ],
   "source": [
    "df['purpose'].value_counts()"
   ]
  },
  {
   "cell_type": "markdown",
   "id": "3933c3c0",
   "metadata": {},
   "source": [
    "**Изменений регистра не требуется.**"
   ]
  },
  {
   "cell_type": "markdown",
   "id": "c8eaec49",
   "metadata": {},
   "source": [
    "#### Удаление явных дубликатов"
   ]
  },
  {
   "cell_type": "markdown",
   "id": "e473089c",
   "metadata": {},
   "source": [
    "Посчитаем, сколько явных дубликатов присутствует в таблице:"
   ]
  },
  {
   "cell_type": "code",
   "execution_count": 37,
   "id": "78aa02fd",
   "metadata": {},
   "outputs": [
    {
     "data": {
      "text/plain": [
       "71"
      ]
     },
     "execution_count": 37,
     "metadata": {},
     "output_type": "execute_result"
    }
   ],
   "source": [
    "df.duplicated().sum()"
   ]
  },
  {
   "cell_type": "markdown",
   "id": "0de1de00",
   "metadata": {},
   "source": [
    "Удалим данные дубликаты со сбросом индекса:"
   ]
  },
  {
   "cell_type": "code",
   "execution_count": 38,
   "id": "9b8f997c",
   "metadata": {},
   "outputs": [],
   "source": [
    "df = df.drop_duplicates().reset_index(drop=True)"
   ]
  },
  {
   "cell_type": "markdown",
   "id": "7d777321",
   "metadata": {},
   "source": [
    "Проверим результативность выполненного действия:"
   ]
  },
  {
   "cell_type": "code",
   "execution_count": 39,
   "id": "024b8c37",
   "metadata": {
    "scrolled": true
   },
   "outputs": [
    {
     "data": {
      "text/plain": [
       "0"
      ]
     },
     "execution_count": 39,
     "metadata": {},
     "output_type": "execute_result"
    }
   ],
   "source": [
    "df.duplicated().sum()"
   ]
  },
  {
   "cell_type": "markdown",
   "id": "34db79c3",
   "metadata": {},
   "source": [
    "Среди возможных причин наличия указанных дубликатов - повторные представления, неправильное соединение данных из разных источников, ошибки пользователя при занесении информации."
   ]
  },
  {
   "cell_type": "markdown",
   "id": "49f394ff",
   "metadata": {},
   "source": [
    "### Формирование дополнительных датафреймов словарей, декомпозиция исходного датафрейма."
   ]
  },
  {
   "cell_type": "markdown",
   "id": "97c88be2",
   "metadata": {},
   "source": [
    "В таблице с данными представлены столбцы, информация которых дублирована -   'family_status' и 'family_status_id',  'education' и 'education_id'. Для удобства дальнейшей работы целесообразно создание датафреймов-словарей, которые будут отражать, какое значений в столбце \"_id\" соответствует 'family_status' и 'education' с последующим удалением этих столбцов из исходного датафрейма. <br>Сформируем датафрейм для 'family_status':"
   ]
  },
  {
   "cell_type": "code",
   "execution_count": 40,
   "id": "c5759b86",
   "metadata": {},
   "outputs": [
    {
     "data": {
      "text/html": [
       "<div>\n",
       "<style scoped>\n",
       "    .dataframe tbody tr th:only-of-type {\n",
       "        vertical-align: middle;\n",
       "    }\n",
       "\n",
       "    .dataframe tbody tr th {\n",
       "        vertical-align: top;\n",
       "    }\n",
       "\n",
       "    .dataframe thead th {\n",
       "        text-align: right;\n",
       "    }\n",
       "</style>\n",
       "<table border=\"1\" class=\"dataframe\">\n",
       "  <thead>\n",
       "    <tr style=\"text-align: right;\">\n",
       "      <th></th>\n",
       "      <th>family_status_id</th>\n",
       "      <th>family_status</th>\n",
       "    </tr>\n",
       "  </thead>\n",
       "  <tbody>\n",
       "    <tr>\n",
       "      <th>0</th>\n",
       "      <td>0</td>\n",
       "      <td>женат / замужем</td>\n",
       "    </tr>\n",
       "    <tr>\n",
       "      <th>1</th>\n",
       "      <td>1</td>\n",
       "      <td>гражданский брак</td>\n",
       "    </tr>\n",
       "    <tr>\n",
       "      <th>2</th>\n",
       "      <td>2</td>\n",
       "      <td>вдовец / вдова</td>\n",
       "    </tr>\n",
       "    <tr>\n",
       "      <th>3</th>\n",
       "      <td>3</td>\n",
       "      <td>в разводе</td>\n",
       "    </tr>\n",
       "    <tr>\n",
       "      <th>4</th>\n",
       "      <td>4</td>\n",
       "      <td>Не женат / не замужем</td>\n",
       "    </tr>\n",
       "  </tbody>\n",
       "</table>\n",
       "</div>"
      ],
      "text/plain": [
       "   family_status_id          family_status\n",
       "0                 0        женат / замужем\n",
       "1                 1       гражданский брак\n",
       "2                 2         вдовец / вдова\n",
       "3                 3              в разводе\n",
       "4                 4  Не женат / не замужем"
      ]
     },
     "execution_count": 40,
     "metadata": {},
     "output_type": "execute_result"
    }
   ],
   "source": [
    "family_df = df[['family_status_id', 'family_status']].drop_duplicates().reset_index(drop=True)\n",
    "family_df"
   ]
  },
  {
   "cell_type": "markdown",
   "id": "05b7e685",
   "metadata": {},
   "source": [
    " Создадим аналогичный датафрейм для 'education':"
   ]
  },
  {
   "cell_type": "code",
   "execution_count": 41,
   "id": "8ec4dc20",
   "metadata": {},
   "outputs": [
    {
     "data": {
      "text/html": [
       "<div>\n",
       "<style scoped>\n",
       "    .dataframe tbody tr th:only-of-type {\n",
       "        vertical-align: middle;\n",
       "    }\n",
       "\n",
       "    .dataframe tbody tr th {\n",
       "        vertical-align: top;\n",
       "    }\n",
       "\n",
       "    .dataframe thead th {\n",
       "        text-align: right;\n",
       "    }\n",
       "</style>\n",
       "<table border=\"1\" class=\"dataframe\">\n",
       "  <thead>\n",
       "    <tr style=\"text-align: right;\">\n",
       "      <th></th>\n",
       "      <th>education_id</th>\n",
       "      <th>education</th>\n",
       "    </tr>\n",
       "  </thead>\n",
       "  <tbody>\n",
       "    <tr>\n",
       "      <th>0</th>\n",
       "      <td>0</td>\n",
       "      <td>высшее</td>\n",
       "    </tr>\n",
       "    <tr>\n",
       "      <th>1</th>\n",
       "      <td>1</td>\n",
       "      <td>среднее</td>\n",
       "    </tr>\n",
       "    <tr>\n",
       "      <th>2</th>\n",
       "      <td>2</td>\n",
       "      <td>неоконченное высшее</td>\n",
       "    </tr>\n",
       "    <tr>\n",
       "      <th>3</th>\n",
       "      <td>3</td>\n",
       "      <td>начальное</td>\n",
       "    </tr>\n",
       "    <tr>\n",
       "      <th>4</th>\n",
       "      <td>4</td>\n",
       "      <td>ученая степень</td>\n",
       "    </tr>\n",
       "  </tbody>\n",
       "</table>\n",
       "</div>"
      ],
      "text/plain": [
       "   education_id            education\n",
       "0             0               высшее\n",
       "1             1              среднее\n",
       "2             2  неоконченное высшее\n",
       "3             3            начальное\n",
       "4             4       ученая степень"
      ]
     },
     "execution_count": 41,
     "metadata": {},
     "output_type": "execute_result"
    }
   ],
   "source": [
    "education_df = df[['education_id', 'education']].drop_duplicates().reset_index(drop=True)\n",
    "education_df"
   ]
  },
  {
   "cell_type": "markdown",
   "id": "4e6e1a18",
   "metadata": {},
   "source": [
    "Исключим столбцы 'family_status' и  'education' из исходной таблицы:"
   ]
  },
  {
   "cell_type": "code",
   "execution_count": 42,
   "id": "6cb6ef80",
   "metadata": {},
   "outputs": [
    {
     "name": "stdout",
     "output_type": "stream",
     "text": [
      "<class 'pandas.core.frame.DataFrame'>\n",
      "RangeIndex: 21454 entries, 0 to 21453\n",
      "Data columns (total 10 columns):\n",
      " #   Column            Non-Null Count  Dtype \n",
      "---  ------            --------------  ----- \n",
      " 0   children          21454 non-null  int64 \n",
      " 1   days_employed     21454 non-null  int64 \n",
      " 2   dob_years         21454 non-null  int64 \n",
      " 3   education_id      21454 non-null  int64 \n",
      " 4   family_status_id  21454 non-null  int64 \n",
      " 5   gender            21454 non-null  object\n",
      " 6   income_type       21454 non-null  object\n",
      " 7   debt              21454 non-null  int64 \n",
      " 8   total_income      21454 non-null  int64 \n",
      " 9   purpose           21454 non-null  object\n",
      "dtypes: int64(7), object(3)\n",
      "memory usage: 1.6+ MB\n"
     ]
    }
   ],
   "source": [
    "df = df.drop(columns=['family_status', 'education'])\n",
    "df.info()"
   ]
  },
  {
   "cell_type": "markdown",
   "id": "48f9dc82",
   "metadata": {},
   "source": [
    "### Категоризация дохода."
   ]
  },
  {
   "cell_type": "markdown",
   "id": "00537871",
   "metadata": {},
   "source": [
    "Для дальнейшей работы целесообразно следующее разделение клинетов на категории в зависимости от уровня дохода:\n",
    "- клиенты с доходом до 30000 - категория 'Е';\n",
    "- клиенты с доходом от 30001 до 50000 - категория 'D'\n",
    "- клиенты с доходом от 50001 до 200000 - категория 'C'\n",
    "- клиенты с доходом от 200001 до 1000000 - категория 'B'\n",
    "- клиенты с доходом от 1000001 - категория 'A.\n",
    "<br>Выполним указанное распределение с последующим добавлением соответствующего столбца в исходную таблицу:"
   ]
  },
  {
   "cell_type": "code",
   "execution_count": 43,
   "id": "f1e3b4a3",
   "metadata": {},
   "outputs": [
    {
     "data": {
      "text/html": [
       "<div>\n",
       "<style scoped>\n",
       "    .dataframe tbody tr th:only-of-type {\n",
       "        vertical-align: middle;\n",
       "    }\n",
       "\n",
       "    .dataframe tbody tr th {\n",
       "        vertical-align: top;\n",
       "    }\n",
       "\n",
       "    .dataframe thead th {\n",
       "        text-align: right;\n",
       "    }\n",
       "</style>\n",
       "<table border=\"1\" class=\"dataframe\">\n",
       "  <thead>\n",
       "    <tr style=\"text-align: right;\">\n",
       "      <th></th>\n",
       "      <th>children</th>\n",
       "      <th>days_employed</th>\n",
       "      <th>dob_years</th>\n",
       "      <th>education_id</th>\n",
       "      <th>family_status_id</th>\n",
       "      <th>gender</th>\n",
       "      <th>income_type</th>\n",
       "      <th>debt</th>\n",
       "      <th>total_income</th>\n",
       "      <th>purpose</th>\n",
       "      <th>total_income_category</th>\n",
       "    </tr>\n",
       "  </thead>\n",
       "  <tbody>\n",
       "    <tr>\n",
       "      <th>0</th>\n",
       "      <td>1</td>\n",
       "      <td>8437</td>\n",
       "      <td>42</td>\n",
       "      <td>0</td>\n",
       "      <td>0</td>\n",
       "      <td>F</td>\n",
       "      <td>сотрудник</td>\n",
       "      <td>0</td>\n",
       "      <td>253875</td>\n",
       "      <td>покупка жилья</td>\n",
       "      <td>B</td>\n",
       "    </tr>\n",
       "    <tr>\n",
       "      <th>1</th>\n",
       "      <td>1</td>\n",
       "      <td>4024</td>\n",
       "      <td>36</td>\n",
       "      <td>1</td>\n",
       "      <td>0</td>\n",
       "      <td>F</td>\n",
       "      <td>сотрудник</td>\n",
       "      <td>0</td>\n",
       "      <td>112080</td>\n",
       "      <td>приобретение автомобиля</td>\n",
       "      <td>C</td>\n",
       "    </tr>\n",
       "    <tr>\n",
       "      <th>2</th>\n",
       "      <td>0</td>\n",
       "      <td>5623</td>\n",
       "      <td>33</td>\n",
       "      <td>1</td>\n",
       "      <td>0</td>\n",
       "      <td>M</td>\n",
       "      <td>сотрудник</td>\n",
       "      <td>0</td>\n",
       "      <td>145885</td>\n",
       "      <td>покупка жилья</td>\n",
       "      <td>C</td>\n",
       "    </tr>\n",
       "    <tr>\n",
       "      <th>3</th>\n",
       "      <td>3</td>\n",
       "      <td>4124</td>\n",
       "      <td>32</td>\n",
       "      <td>1</td>\n",
       "      <td>0</td>\n",
       "      <td>M</td>\n",
       "      <td>сотрудник</td>\n",
       "      <td>0</td>\n",
       "      <td>267628</td>\n",
       "      <td>дополнительное образование</td>\n",
       "      <td>B</td>\n",
       "    </tr>\n",
       "    <tr>\n",
       "      <th>4</th>\n",
       "      <td>0</td>\n",
       "      <td>0</td>\n",
       "      <td>53</td>\n",
       "      <td>1</td>\n",
       "      <td>1</td>\n",
       "      <td>F</td>\n",
       "      <td>пенсионер</td>\n",
       "      <td>0</td>\n",
       "      <td>158616</td>\n",
       "      <td>сыграть свадьбу</td>\n",
       "      <td>C</td>\n",
       "    </tr>\n",
       "  </tbody>\n",
       "</table>\n",
       "</div>"
      ],
      "text/plain": [
       "   children  days_employed  dob_years  education_id  family_status_id gender  \\\n",
       "0         1           8437         42             0                 0      F   \n",
       "1         1           4024         36             1                 0      F   \n",
       "2         0           5623         33             1                 0      M   \n",
       "3         3           4124         32             1                 0      M   \n",
       "4         0              0         53             1                 1      F   \n",
       "\n",
       "  income_type  debt  total_income                     purpose  \\\n",
       "0   сотрудник     0        253875               покупка жилья   \n",
       "1   сотрудник     0        112080     приобретение автомобиля   \n",
       "2   сотрудник     0        145885               покупка жилья   \n",
       "3   сотрудник     0        267628  дополнительное образование   \n",
       "4   пенсионер     0        158616             сыграть свадьбу   \n",
       "\n",
       "  total_income_category  \n",
       "0                     B  \n",
       "1                     C  \n",
       "2                     C  \n",
       "3                     B  \n",
       "4                     C  "
      ]
     },
     "execution_count": 43,
     "metadata": {},
     "output_type": "execute_result"
    }
   ],
   "source": [
    "def cat_income(total_income):\n",
    "    if total_income <=30000:\n",
    "        return 'E'\n",
    "    if total_income <=50000:\n",
    "        return 'D'\n",
    "    if total_income <=200000:\n",
    "        return 'C'\n",
    "    if total_income <=1000000:\n",
    "        return 'B'\n",
    "    return 'A'\n",
    "df['total_income_category'] = df['total_income'].apply(cat_income)\n",
    "df.head()"
   ]
  },
  {
   "cell_type": "markdown",
   "id": "26931eff",
   "metadata": {},
   "source": [
    "### Категоризация целей кредита."
   ]
  },
  {
   "cell_type": "markdown",
   "id": "4c85f13c",
   "metadata": {},
   "source": [
    "С целью категоризации значений в столбце 'purpose', целесообразно лемматизировать значения строк в столбце для дальнейшего разделения на категории. Выведеме перечень уникальных значений столбца 'purpose':"
   ]
  },
  {
   "cell_type": "code",
   "execution_count": 44,
   "id": "b09031ff",
   "metadata": {},
   "outputs": [
    {
     "name": "stdout",
     "output_type": "stream",
     "text": [
      "['покупка жилья' 'приобретение автомобиля' 'дополнительное образование'\n",
      " 'сыграть свадьбу' 'операции с жильем' 'образование'\n",
      " 'на проведение свадьбы' 'покупка жилья для семьи' 'покупка недвижимости'\n",
      " 'покупка коммерческой недвижимости' 'покупка жилой недвижимости'\n",
      " 'строительство собственной недвижимости' 'недвижимость'\n",
      " 'строительство недвижимости' 'на покупку подержанного автомобиля'\n",
      " 'на покупку своего автомобиля' 'операции с коммерческой недвижимостью'\n",
      " 'строительство жилой недвижимости' 'жилье'\n",
      " 'операции со своей недвижимостью' 'автомобили' 'заняться образованием'\n",
      " 'сделка с подержанным автомобилем' 'получение образования' 'автомобиль'\n",
      " 'свадьба' 'получение дополнительного образования' 'покупка своего жилья'\n",
      " 'операции с недвижимостью' 'получение высшего образования'\n",
      " 'свой автомобиль' 'сделка с автомобилем' 'профильное образование'\n",
      " 'высшее образование' 'покупка жилья для сдачи' 'на покупку автомобиля'\n",
      " 'ремонт жилью' 'заняться высшим образованием']\n"
     ]
    },
    {
     "data": {
      "text/plain": [
       "38"
      ]
     },
     "execution_count": 44,
     "metadata": {},
     "output_type": "execute_result"
    }
   ],
   "source": [
    "purposes = df['purpose'].unique()\n",
    "print(purposes)\n",
    "len(purposes)"
   ]
  },
  {
   "cell_type": "markdown",
   "id": "5dcae822",
   "metadata": {},
   "source": [
    "Создадим функцию, возвращающую категорию на основании данных столбца 'purpose' следующим образом:\n",
    "- при наличии в строке 'автомоб' - возвращение 'операции с автомобилем';\n",
    "- при наличии в строке 'недвижим' или 'жиль' - возвращение 'операции с недвижимостью';\n",
    "- при наличии в строке 'свадьб' - возвращение 'проведение свадьбы';\n",
    "- при наличии в строке 'образован' - возвращение 'получение образования';"
   ]
  },
  {
   "cell_type": "markdown",
   "id": "46f9e942",
   "metadata": {},
   "source": [
    "Проверим работу цикла на списке уникальных элементов purposes (с контролем количества выведенных значений на предмет соответствия len(purposes)):"
   ]
  },
  {
   "cell_type": "code",
   "execution_count": 45,
   "id": "7e7708c0",
   "metadata": {},
   "outputs": [
    {
     "name": "stdout",
     "output_type": "stream",
     "text": [
      "операции с недвижимостью\n",
      "операции с автомобилем\n",
      "получение образования\n",
      "проведение свадьбы\n",
      "операции с недвижимостью\n",
      "получение образования\n",
      "проведение свадьбы\n",
      "операции с недвижимостью\n",
      "операции с недвижимостью\n",
      "операции с недвижимостью\n",
      "операции с недвижимостью\n",
      "операции с недвижимостью\n",
      "операции с недвижимостью\n",
      "операции с недвижимостью\n",
      "операции с автомобилем\n",
      "операции с автомобилем\n",
      "операции с недвижимостью\n",
      "операции с недвижимостью\n",
      "операции с недвижимостью\n",
      "операции с недвижимостью\n",
      "операции с автомобилем\n",
      "получение образования\n",
      "операции с автомобилем\n",
      "получение образования\n",
      "операции с автомобилем\n",
      "проведение свадьбы\n",
      "получение образования\n",
      "операции с недвижимостью\n",
      "операции с недвижимостью\n",
      "получение образования\n",
      "операции с автомобилем\n",
      "операции с автомобилем\n",
      "получение образования\n",
      "получение образования\n",
      "операции с недвижимостью\n",
      "операции с автомобилем\n",
      "операции с недвижимостью\n",
      "получение образования\n",
      "38\n"
     ]
    }
   ],
   "source": [
    "count = 0\n",
    "for pur in purposes:\n",
    "        if 'жиль' in pur:\n",
    "            print('операции с недвижимостью')\n",
    "            count+=1\n",
    "        if 'недвижим' in pur:\n",
    "            print('операции с недвижимостью')\n",
    "            count+=1\n",
    "        if 'автомоб' in pur:\n",
    "            print('операции с автомобилем')\n",
    "            count+=1\n",
    "        if 'свадьб' in pur:\n",
    "            print('проведение свадьбы')\n",
    "            count+=1\n",
    "        if 'образован' in pur:\n",
    "            print('получение образования')\n",
    "            count+=1\n",
    "print(count)"
   ]
  },
  {
   "cell_type": "markdown",
   "id": "4d25bbb6",
   "metadata": {},
   "source": [
    "Создадим функцию pur_cat для категоризации столбца 'purpose':"
   ]
  },
  {
   "cell_type": "code",
   "execution_count": 46,
   "id": "d43ae617",
   "metadata": {},
   "outputs": [
    {
     "data": {
      "text/html": [
       "<div>\n",
       "<style scoped>\n",
       "    .dataframe tbody tr th:only-of-type {\n",
       "        vertical-align: middle;\n",
       "    }\n",
       "\n",
       "    .dataframe tbody tr th {\n",
       "        vertical-align: top;\n",
       "    }\n",
       "\n",
       "    .dataframe thead th {\n",
       "        text-align: right;\n",
       "    }\n",
       "</style>\n",
       "<table border=\"1\" class=\"dataframe\">\n",
       "  <thead>\n",
       "    <tr style=\"text-align: right;\">\n",
       "      <th></th>\n",
       "      <th>children</th>\n",
       "      <th>days_employed</th>\n",
       "      <th>dob_years</th>\n",
       "      <th>education_id</th>\n",
       "      <th>family_status_id</th>\n",
       "      <th>gender</th>\n",
       "      <th>income_type</th>\n",
       "      <th>debt</th>\n",
       "      <th>total_income</th>\n",
       "      <th>purpose</th>\n",
       "      <th>total_income_category</th>\n",
       "      <th>purpose_category</th>\n",
       "    </tr>\n",
       "  </thead>\n",
       "  <tbody>\n",
       "    <tr>\n",
       "      <th>0</th>\n",
       "      <td>1</td>\n",
       "      <td>8437</td>\n",
       "      <td>42</td>\n",
       "      <td>0</td>\n",
       "      <td>0</td>\n",
       "      <td>F</td>\n",
       "      <td>сотрудник</td>\n",
       "      <td>0</td>\n",
       "      <td>253875</td>\n",
       "      <td>покупка жилья</td>\n",
       "      <td>B</td>\n",
       "      <td>операции с недвижимостью</td>\n",
       "    </tr>\n",
       "    <tr>\n",
       "      <th>1</th>\n",
       "      <td>1</td>\n",
       "      <td>4024</td>\n",
       "      <td>36</td>\n",
       "      <td>1</td>\n",
       "      <td>0</td>\n",
       "      <td>F</td>\n",
       "      <td>сотрудник</td>\n",
       "      <td>0</td>\n",
       "      <td>112080</td>\n",
       "      <td>приобретение автомобиля</td>\n",
       "      <td>C</td>\n",
       "      <td>операции с автомобилем</td>\n",
       "    </tr>\n",
       "    <tr>\n",
       "      <th>2</th>\n",
       "      <td>0</td>\n",
       "      <td>5623</td>\n",
       "      <td>33</td>\n",
       "      <td>1</td>\n",
       "      <td>0</td>\n",
       "      <td>M</td>\n",
       "      <td>сотрудник</td>\n",
       "      <td>0</td>\n",
       "      <td>145885</td>\n",
       "      <td>покупка жилья</td>\n",
       "      <td>C</td>\n",
       "      <td>операции с недвижимостью</td>\n",
       "    </tr>\n",
       "    <tr>\n",
       "      <th>3</th>\n",
       "      <td>3</td>\n",
       "      <td>4124</td>\n",
       "      <td>32</td>\n",
       "      <td>1</td>\n",
       "      <td>0</td>\n",
       "      <td>M</td>\n",
       "      <td>сотрудник</td>\n",
       "      <td>0</td>\n",
       "      <td>267628</td>\n",
       "      <td>дополнительное образование</td>\n",
       "      <td>B</td>\n",
       "      <td>получение образования</td>\n",
       "    </tr>\n",
       "    <tr>\n",
       "      <th>4</th>\n",
       "      <td>0</td>\n",
       "      <td>0</td>\n",
       "      <td>53</td>\n",
       "      <td>1</td>\n",
       "      <td>1</td>\n",
       "      <td>F</td>\n",
       "      <td>пенсионер</td>\n",
       "      <td>0</td>\n",
       "      <td>158616</td>\n",
       "      <td>сыграть свадьбу</td>\n",
       "      <td>C</td>\n",
       "      <td>проведение свадьбы</td>\n",
       "    </tr>\n",
       "  </tbody>\n",
       "</table>\n",
       "</div>"
      ],
      "text/plain": [
       "   children  days_employed  dob_years  education_id  family_status_id gender  \\\n",
       "0         1           8437         42             0                 0      F   \n",
       "1         1           4024         36             1                 0      F   \n",
       "2         0           5623         33             1                 0      M   \n",
       "3         3           4124         32             1                 0      M   \n",
       "4         0              0         53             1                 1      F   \n",
       "\n",
       "  income_type  debt  total_income                     purpose  \\\n",
       "0   сотрудник     0        253875               покупка жилья   \n",
       "1   сотрудник     0        112080     приобретение автомобиля   \n",
       "2   сотрудник     0        145885               покупка жилья   \n",
       "3   сотрудник     0        267628  дополнительное образование   \n",
       "4   пенсионер     0        158616             сыграть свадьбу   \n",
       "\n",
       "  total_income_category          purpose_category  \n",
       "0                     B  операции с недвижимостью  \n",
       "1                     C    операции с автомобилем  \n",
       "2                     C  операции с недвижимостью  \n",
       "3                     B     получение образования  \n",
       "4                     C        проведение свадьбы  "
      ]
     },
     "execution_count": 46,
     "metadata": {},
     "output_type": "execute_result"
    }
   ],
   "source": [
    "def pur_cat (purpose):\n",
    "        if 'жиль' in purpose:\n",
    "            return 'операции с недвижимостью'\n",
    "        if 'недвижим' in purpose:\n",
    "            return 'операции с недвижимостью'\n",
    "        if 'автомоб' in purpose:\n",
    "            return 'операции с автомобилем'\n",
    "        if 'свадьб' in purpose:\n",
    "            return 'проведение свадьбы'\n",
    "        if 'образован' in purpose:\n",
    "            return 'получение образования' \n",
    "df['purpose_category'] = df['purpose'].apply(pur_cat)\n",
    "df.head()"
   ]
  },
  {
   "cell_type": "markdown",
   "id": "e838bb28",
   "metadata": {},
   "source": [
    "## Ответы на вопросы."
   ]
  },
  {
   "cell_type": "markdown",
   "id": "a22a0b26",
   "metadata": {},
   "source": [
    "### Вопрос 1:"
   ]
  },
  {
   "cell_type": "markdown",
   "id": "36964125",
   "metadata": {},
   "source": [
    "**Есть ли зависимость между количеством детей и возвратом кредита в срок?**"
   ]
  },
  {
   "cell_type": "markdown",
   "id": "01b6eaeb",
   "metadata": {},
   "source": [
    "Для ответа на данный вопрос построим таблицу, в которой будет указана доля имеющих долг клиентов с разбивкой по количеству детей:"
   ]
  },
  {
   "cell_type": "code",
   "execution_count": 47,
   "id": "bdff9c79",
   "metadata": {},
   "outputs": [
    {
     "data": {
      "text/html": [
       "<div>\n",
       "<style scoped>\n",
       "    .dataframe tbody tr th:only-of-type {\n",
       "        vertical-align: middle;\n",
       "    }\n",
       "\n",
       "    .dataframe tbody tr th {\n",
       "        vertical-align: top;\n",
       "    }\n",
       "\n",
       "    .dataframe thead th {\n",
       "        text-align: right;\n",
       "    }\n",
       "</style>\n",
       "<table border=\"1\" class=\"dataframe\">\n",
       "  <thead>\n",
       "    <tr style=\"text-align: right;\">\n",
       "      <th></th>\n",
       "      <th>count</th>\n",
       "      <th>mean</th>\n",
       "    </tr>\n",
       "    <tr>\n",
       "      <th>children</th>\n",
       "      <th></th>\n",
       "      <th></th>\n",
       "    </tr>\n",
       "  </thead>\n",
       "  <tbody>\n",
       "    <tr>\n",
       "      <th>0</th>\n",
       "      <td>14214</td>\n",
       "      <td>0.075419</td>\n",
       "    </tr>\n",
       "    <tr>\n",
       "      <th>1</th>\n",
       "      <td>4808</td>\n",
       "      <td>0.092346</td>\n",
       "    </tr>\n",
       "    <tr>\n",
       "      <th>2</th>\n",
       "      <td>2052</td>\n",
       "      <td>0.094542</td>\n",
       "    </tr>\n",
       "    <tr>\n",
       "      <th>3</th>\n",
       "      <td>330</td>\n",
       "      <td>0.081818</td>\n",
       "    </tr>\n",
       "    <tr>\n",
       "      <th>4</th>\n",
       "      <td>41</td>\n",
       "      <td>0.097561</td>\n",
       "    </tr>\n",
       "    <tr>\n",
       "      <th>5</th>\n",
       "      <td>9</td>\n",
       "      <td>0.000000</td>\n",
       "    </tr>\n",
       "  </tbody>\n",
       "</table>\n",
       "</div>"
      ],
      "text/plain": [
       "          count      mean\n",
       "children                 \n",
       "0         14214  0.075419\n",
       "1          4808  0.092346\n",
       "2          2052  0.094542\n",
       "3           330  0.081818\n",
       "4            41  0.097561\n",
       "5             9  0.000000"
      ]
     },
     "execution_count": 47,
     "metadata": {},
     "output_type": "execute_result"
    }
   ],
   "source": [
    "df.groupby('children')['debt'].agg(['count','mean'])"
   ]
  },
  {
   "cell_type": "markdown",
   "id": "2adceb6d",
   "metadata": {},
   "source": [
    "#### Вывод 1:"
   ]
  },
  {
   "cell_type": "markdown",
   "id": "3256911d",
   "metadata": {},
   "source": [
    "**Представленная таблица показывает следующее: наибольшая доля должников среди клиентов, имеющих 4 детей (9,76%), наименьшая - среди клиентов без детей (7,54%) если не учитывать клиентов с 5 детей, количество которых статистически не значимок (9 из 21525). Таким образом, количество детей влияет на вероятность возврата кредита в срок.**"
   ]
  },
  {
   "cell_type": "markdown",
   "id": "57531be6",
   "metadata": {},
   "source": [
    "### Вопрос 2:"
   ]
  },
  {
   "cell_type": "markdown",
   "id": "6a8d7891",
   "metadata": {},
   "source": [
    "**Есть ли зависимость между семейным положением и возвратом кредита в срок?**"
   ]
  },
  {
   "cell_type": "markdown",
   "id": "6d1d1d4a",
   "metadata": {},
   "source": [
    "Для ответа на данный вопрос построим таблицу, в которой будет указана доля имеющих долг клиентов с разбивкой по типам семейного положения:"
   ]
  },
  {
   "cell_type": "code",
   "execution_count": 48,
   "id": "d4d8c96f",
   "metadata": {},
   "outputs": [
    {
     "data": {
      "text/html": [
       "<div>\n",
       "<style scoped>\n",
       "    .dataframe tbody tr th:only-of-type {\n",
       "        vertical-align: middle;\n",
       "    }\n",
       "\n",
       "    .dataframe tbody tr th {\n",
       "        vertical-align: top;\n",
       "    }\n",
       "\n",
       "    .dataframe thead th {\n",
       "        text-align: right;\n",
       "    }\n",
       "</style>\n",
       "<table border=\"1\" class=\"dataframe\">\n",
       "  <thead>\n",
       "    <tr style=\"text-align: right;\">\n",
       "      <th></th>\n",
       "      <th>count</th>\n",
       "      <th>mean</th>\n",
       "    </tr>\n",
       "    <tr>\n",
       "      <th>family_status_id</th>\n",
       "      <th></th>\n",
       "      <th></th>\n",
       "    </tr>\n",
       "  </thead>\n",
       "  <tbody>\n",
       "    <tr>\n",
       "      <th>0</th>\n",
       "      <td>12339</td>\n",
       "      <td>0.075452</td>\n",
       "    </tr>\n",
       "    <tr>\n",
       "      <th>1</th>\n",
       "      <td>4151</td>\n",
       "      <td>0.093471</td>\n",
       "    </tr>\n",
       "    <tr>\n",
       "      <th>2</th>\n",
       "      <td>959</td>\n",
       "      <td>0.065693</td>\n",
       "    </tr>\n",
       "    <tr>\n",
       "      <th>3</th>\n",
       "      <td>1195</td>\n",
       "      <td>0.071130</td>\n",
       "    </tr>\n",
       "    <tr>\n",
       "      <th>4</th>\n",
       "      <td>2810</td>\n",
       "      <td>0.097509</td>\n",
       "    </tr>\n",
       "  </tbody>\n",
       "</table>\n",
       "</div>"
      ],
      "text/plain": [
       "                  count      mean\n",
       "family_status_id                 \n",
       "0                 12339  0.075452\n",
       "1                  4151  0.093471\n",
       "2                   959  0.065693\n",
       "3                  1195  0.071130\n",
       "4                  2810  0.097509"
      ]
     },
     "execution_count": 48,
     "metadata": {},
     "output_type": "execute_result"
    }
   ],
   "source": [
    "family = df.groupby('family_status_id')['debt'].agg(['count','mean'])\n",
    "family"
   ]
  },
  {
   "cell_type": "markdown",
   "id": "200ea5dc",
   "metadata": {},
   "source": [
    "Для наглядности добавим в таблицу значения ключей для категорий семейного положения:"
   ]
  },
  {
   "cell_type": "code",
   "execution_count": 49,
   "id": "4e31baa6",
   "metadata": {},
   "outputs": [
    {
     "data": {
      "text/html": [
       "<div>\n",
       "<style scoped>\n",
       "    .dataframe tbody tr th:only-of-type {\n",
       "        vertical-align: middle;\n",
       "    }\n",
       "\n",
       "    .dataframe tbody tr th {\n",
       "        vertical-align: top;\n",
       "    }\n",
       "\n",
       "    .dataframe thead th {\n",
       "        text-align: right;\n",
       "    }\n",
       "</style>\n",
       "<table border=\"1\" class=\"dataframe\">\n",
       "  <thead>\n",
       "    <tr style=\"text-align: right;\">\n",
       "      <th></th>\n",
       "      <th>family_status_id</th>\n",
       "      <th>count</th>\n",
       "      <th>mean</th>\n",
       "      <th>family_status</th>\n",
       "    </tr>\n",
       "  </thead>\n",
       "  <tbody>\n",
       "    <tr>\n",
       "      <th>0</th>\n",
       "      <td>0</td>\n",
       "      <td>12339</td>\n",
       "      <td>0.075452</td>\n",
       "      <td>женат / замужем</td>\n",
       "    </tr>\n",
       "    <tr>\n",
       "      <th>1</th>\n",
       "      <td>1</td>\n",
       "      <td>4151</td>\n",
       "      <td>0.093471</td>\n",
       "      <td>гражданский брак</td>\n",
       "    </tr>\n",
       "    <tr>\n",
       "      <th>2</th>\n",
       "      <td>2</td>\n",
       "      <td>959</td>\n",
       "      <td>0.065693</td>\n",
       "      <td>вдовец / вдова</td>\n",
       "    </tr>\n",
       "    <tr>\n",
       "      <th>3</th>\n",
       "      <td>3</td>\n",
       "      <td>1195</td>\n",
       "      <td>0.071130</td>\n",
       "      <td>в разводе</td>\n",
       "    </tr>\n",
       "    <tr>\n",
       "      <th>4</th>\n",
       "      <td>4</td>\n",
       "      <td>2810</td>\n",
       "      <td>0.097509</td>\n",
       "      <td>Не женат / не замужем</td>\n",
       "    </tr>\n",
       "  </tbody>\n",
       "</table>\n",
       "</div>"
      ],
      "text/plain": [
       "   family_status_id  count      mean          family_status\n",
       "0                 0  12339  0.075452        женат / замужем\n",
       "1                 1   4151  0.093471       гражданский брак\n",
       "2                 2    959  0.065693         вдовец / вдова\n",
       "3                 3   1195  0.071130              в разводе\n",
       "4                 4   2810  0.097509  Не женат / не замужем"
      ]
     },
     "execution_count": 49,
     "metadata": {},
     "output_type": "execute_result"
    }
   ],
   "source": [
    "family_full = family.merge(family_df, on='family_status_id', how='left')\n",
    "family_full"
   ]
  },
  {
   "cell_type": "markdown",
   "id": "635f96e8",
   "metadata": {},
   "source": [
    "#### Вывод 2:"
   ]
  },
  {
   "cell_type": "markdown",
   "id": "f8fd8b89",
   "metadata": {},
   "source": [
    "**Зависимость между семейным положением и возвратом кредита в срок следующая: наибольшая вероятность несвоевременного возврата (или невозврата) кредита в срок у клиентов, которые не женаты/не замужем (9,75%) или находящихся в гражданском браке (9,35%). Клиенты, находящиеся или находившиеся в браке имеют вероятность своевременного возврата кредита выше: доля вдовцов/вдов, не возвращающих кредити - 6,57%, разведенных - 7,11%, находящихся в браке - 7,54%.**"
   ]
  },
  {
   "cell_type": "markdown",
   "id": "46908bbb",
   "metadata": {},
   "source": [
    "### Вопрос 3:"
   ]
  },
  {
   "cell_type": "markdown",
   "id": "fd4cc6af",
   "metadata": {},
   "source": [
    "**Есть ли зависимость между уровнем дохода и возвратом кредита в срок?**"
   ]
  },
  {
   "cell_type": "markdown",
   "id": "5ff38202",
   "metadata": {},
   "source": [
    "Для ответа на данный вопрос построим таблицу, в которой будет указана доля имеющих долг клиентов с разбивкой по категориям уровня дохода:"
   ]
  },
  {
   "cell_type": "code",
   "execution_count": 50,
   "id": "becb47ee",
   "metadata": {},
   "outputs": [
    {
     "data": {
      "text/html": [
       "<div>\n",
       "<style scoped>\n",
       "    .dataframe tbody tr th:only-of-type {\n",
       "        vertical-align: middle;\n",
       "    }\n",
       "\n",
       "    .dataframe tbody tr th {\n",
       "        vertical-align: top;\n",
       "    }\n",
       "\n",
       "    .dataframe thead th {\n",
       "        text-align: right;\n",
       "    }\n",
       "</style>\n",
       "<table border=\"1\" class=\"dataframe\">\n",
       "  <thead>\n",
       "    <tr style=\"text-align: right;\">\n",
       "      <th></th>\n",
       "      <th>count</th>\n",
       "      <th>mean</th>\n",
       "    </tr>\n",
       "    <tr>\n",
       "      <th>total_income_category</th>\n",
       "      <th></th>\n",
       "      <th></th>\n",
       "    </tr>\n",
       "  </thead>\n",
       "  <tbody>\n",
       "    <tr>\n",
       "      <th>A</th>\n",
       "      <td>25</td>\n",
       "      <td>0.080000</td>\n",
       "    </tr>\n",
       "    <tr>\n",
       "      <th>B</th>\n",
       "      <td>5041</td>\n",
       "      <td>0.070621</td>\n",
       "    </tr>\n",
       "    <tr>\n",
       "      <th>C</th>\n",
       "      <td>16016</td>\n",
       "      <td>0.084915</td>\n",
       "    </tr>\n",
       "    <tr>\n",
       "      <th>D</th>\n",
       "      <td>350</td>\n",
       "      <td>0.060000</td>\n",
       "    </tr>\n",
       "    <tr>\n",
       "      <th>E</th>\n",
       "      <td>22</td>\n",
       "      <td>0.090909</td>\n",
       "    </tr>\n",
       "  </tbody>\n",
       "</table>\n",
       "</div>"
      ],
      "text/plain": [
       "                       count      mean\n",
       "total_income_category                 \n",
       "A                         25  0.080000\n",
       "B                       5041  0.070621\n",
       "C                      16016  0.084915\n",
       "D                        350  0.060000\n",
       "E                         22  0.090909"
      ]
     },
     "execution_count": 50,
     "metadata": {},
     "output_type": "execute_result"
    }
   ],
   "source": [
    "df.groupby('total_income_category')['debt'].agg(['count','mean'])"
   ]
  },
  {
   "cell_type": "markdown",
   "id": "fa51fa52",
   "metadata": {},
   "source": [
    "- клиенты с доходом до 30000 - категория 'Е';\n",
    "- клиенты с доходом от 30001 до 50000 - категория 'D'\n",
    "- клиенты с доходом от 50001 до 200000 - категория 'C'\n",
    "- клиенты с доходом от 200001 до 1000000 - категория 'B'\n",
    "- клиенты с доходом от 1000001 - категория 'A."
   ]
  },
  {
   "cell_type": "markdown",
   "id": "f440bb6c",
   "metadata": {},
   "source": [
    "#### Вывод 3:"
   ]
  },
  {
   "cell_type": "markdown",
   "id": "a24b719b",
   "metadata": {},
   "source": [
    "**Зависимость между уровнем дохода и возвратом кредита в срок не очевидна: минимальная доля должников в категориях 'B' (7,06%) и 'D' (6%). Максимальная  - среди должников с наименьшим доходом (9,1%) и середняков (8,49%).**"
   ]
  },
  {
   "cell_type": "markdown",
   "id": "617bb288",
   "metadata": {},
   "source": [
    "### Вопрос 4:"
   ]
  },
  {
   "cell_type": "markdown",
   "id": "e992513e",
   "metadata": {},
   "source": [
    "**Как разные цели влияют на его возврат в срок?**"
   ]
  },
  {
   "cell_type": "markdown",
   "id": "a4141980",
   "metadata": {},
   "source": [
    "Для ответа на данный вопрос построим таблицу, в которой будет указана доля имеющих долг клиентов с разбивкой по категориям цели кредита:"
   ]
  },
  {
   "cell_type": "code",
   "execution_count": 51,
   "id": "126c3643",
   "metadata": {},
   "outputs": [
    {
     "data": {
      "text/html": [
       "<div>\n",
       "<style scoped>\n",
       "    .dataframe tbody tr th:only-of-type {\n",
       "        vertical-align: middle;\n",
       "    }\n",
       "\n",
       "    .dataframe tbody tr th {\n",
       "        vertical-align: top;\n",
       "    }\n",
       "\n",
       "    .dataframe thead tr th {\n",
       "        text-align: left;\n",
       "    }\n",
       "\n",
       "    .dataframe thead tr:last-of-type th {\n",
       "        text-align: right;\n",
       "    }\n",
       "</style>\n",
       "<table border=\"1\" class=\"dataframe\">\n",
       "  <thead>\n",
       "    <tr>\n",
       "      <th></th>\n",
       "      <th>count</th>\n",
       "      <th>mean</th>\n",
       "    </tr>\n",
       "    <tr>\n",
       "      <th></th>\n",
       "      <th>debt</th>\n",
       "      <th>debt</th>\n",
       "    </tr>\n",
       "    <tr>\n",
       "      <th>purpose_category</th>\n",
       "      <th></th>\n",
       "      <th></th>\n",
       "    </tr>\n",
       "  </thead>\n",
       "  <tbody>\n",
       "    <tr>\n",
       "      <th>операции с автомобилем</th>\n",
       "      <td>4306</td>\n",
       "      <td>0.093590</td>\n",
       "    </tr>\n",
       "    <tr>\n",
       "      <th>операции с недвижимостью</th>\n",
       "      <td>10811</td>\n",
       "      <td>0.072334</td>\n",
       "    </tr>\n",
       "    <tr>\n",
       "      <th>получение образования</th>\n",
       "      <td>4013</td>\n",
       "      <td>0.092200</td>\n",
       "    </tr>\n",
       "    <tr>\n",
       "      <th>проведение свадьбы</th>\n",
       "      <td>2324</td>\n",
       "      <td>0.080034</td>\n",
       "    </tr>\n",
       "  </tbody>\n",
       "</table>\n",
       "</div>"
      ],
      "text/plain": [
       "                          count      mean\n",
       "                           debt      debt\n",
       "purpose_category                         \n",
       "операции с автомобилем     4306  0.093590\n",
       "операции с недвижимостью  10811  0.072334\n",
       "получение образования      4013  0.092200\n",
       "проведение свадьбы         2324  0.080034"
      ]
     },
     "execution_count": 51,
     "metadata": {},
     "output_type": "execute_result"
    }
   ],
   "source": [
    "purpose_table = pd.pivot_table(df,values='debt', index=['purpose_category'],aggfunc=['count','mean'])\n",
    "purpose_table"
   ]
  },
  {
   "cell_type": "markdown",
   "id": "1c576902",
   "metadata": {},
   "source": [
    "#### Вывод 4:"
   ]
  },
  {
   "cell_type": "markdown",
   "id": "87d557ee",
   "metadata": {},
   "source": [
    "**Наибольшую вероятность несвоевременного возврата (или невозврата) кредита имеют клиенты, которым кредит нужен на операции с автомобилем (9,36%) или получение образования (9,22%). Наименьший процент должников среди клиентов, которые берут кредит для операций с недвижимостью (7,23%).**"
   ]
  },
  {
   "cell_type": "markdown",
   "id": "32dffb4f",
   "metadata": {},
   "source": [
    "## Общий вывод:"
   ]
  },
  {
   "cell_type": "markdown",
   "id": "161f17d7",
   "metadata": {},
   "source": [
    "Проведенный анализ данных по возврату кредита в срок среди клиентов банка показал следующее: наиболее надежными заемщиками являются следующие клиенты:\n",
    "- не имеющие детей (доля должников - 7,54%);\n",
    "- вдовцы/вдовы (6,57%);\n",
    "- с доходом от 30001 до 50000 (6%);\n",
    "- которым кредит необходим для проведения операций с недвижимостью (7,23%).\n",
    "Наименее надежными заемщиками являются следующие клиенты:\n",
    "- имеющие 4 детей (доля должников - 9,76%);\n",
    "- неженатые или незамужние (9,75%);\n",
    "- с доходом до 30000 (9,1%);\n",
    "- которым кредит необходим для проведения операций с автомобилем (9,36%).**"
   ]
  }
 ],
 "metadata": {
  "ExecuteTimeLog": [
   {
    "duration": 754,
    "start_time": "2022-05-01T15:16:40.670Z"
   },
   {
    "duration": 106,
    "start_time": "2022-05-01T15:16:41.427Z"
   },
   {
    "duration": 29,
    "start_time": "2022-05-01T15:16:41.536Z"
   },
   {
    "duration": 19,
    "start_time": "2022-05-01T15:16:41.568Z"
   },
   {
    "duration": 63,
    "start_time": "2022-05-01T15:16:41.589Z"
   },
   {
    "duration": 21,
    "start_time": "2022-05-01T15:16:41.654Z"
   },
   {
    "duration": 6,
    "start_time": "2022-05-01T15:16:41.677Z"
   },
   {
    "duration": 43,
    "start_time": "2022-05-01T15:16:41.685Z"
   },
   {
    "duration": 18,
    "start_time": "2022-05-01T15:16:41.730Z"
   },
   {
    "duration": 10,
    "start_time": "2022-05-01T15:16:41.752Z"
   },
   {
    "duration": 11,
    "start_time": "2022-05-01T15:16:41.764Z"
   },
   {
    "duration": 17,
    "start_time": "2022-05-01T15:16:41.824Z"
   },
   {
    "duration": 5,
    "start_time": "2022-05-01T15:16:41.843Z"
   },
   {
    "duration": 23,
    "start_time": "2022-05-01T15:16:41.850Z"
   },
   {
    "duration": 5,
    "start_time": "2022-05-01T15:16:41.876Z"
   },
   {
    "duration": 47,
    "start_time": "2022-05-01T15:16:41.884Z"
   },
   {
    "duration": 19,
    "start_time": "2022-05-01T15:16:41.933Z"
   },
   {
    "duration": 13,
    "start_time": "2022-05-01T15:16:41.955Z"
   },
   {
    "duration": 7,
    "start_time": "2022-05-01T15:16:41.972Z"
   },
   {
    "duration": 44,
    "start_time": "2022-05-01T15:16:41.982Z"
   },
   {
    "duration": 8,
    "start_time": "2022-05-01T15:16:42.029Z"
   },
   {
    "duration": 18,
    "start_time": "2022-05-01T15:16:42.039Z"
   },
   {
    "duration": 7,
    "start_time": "2022-05-01T15:16:42.060Z"
   },
   {
    "duration": 18,
    "start_time": "2022-05-01T15:16:42.070Z"
   },
   {
    "duration": 41,
    "start_time": "2022-05-01T15:16:42.091Z"
   },
   {
    "duration": 17,
    "start_time": "2022-05-01T15:16:42.136Z"
   },
   {
    "duration": 39,
    "start_time": "2022-05-01T15:16:42.157Z"
   },
   {
    "duration": 30,
    "start_time": "2022-05-01T15:16:42.204Z"
   },
   {
    "duration": 32,
    "start_time": "2022-05-01T15:16:42.237Z"
   },
   {
    "duration": 9,
    "start_time": "2022-05-01T15:16:42.271Z"
   },
   {
    "duration": 66,
    "start_time": "2022-05-01T15:16:42.282Z"
   },
   {
    "duration": 15,
    "start_time": "2022-05-01T15:16:42.350Z"
   },
   {
    "duration": 11,
    "start_time": "2022-05-01T15:16:42.367Z"
   },
   {
    "duration": 51,
    "start_time": "2022-05-01T15:16:42.380Z"
   },
   {
    "duration": 28,
    "start_time": "2022-05-01T15:16:42.433Z"
   },
   {
    "duration": 13,
    "start_time": "2022-05-01T15:16:42.463Z"
   },
   {
    "duration": 32,
    "start_time": "2022-05-01T15:16:42.478Z"
   },
   {
    "duration": 45,
    "start_time": "2022-05-01T15:16:42.513Z"
   },
   {
    "duration": 23,
    "start_time": "2022-05-01T15:16:42.560Z"
   },
   {
    "duration": 39,
    "start_time": "2022-05-01T15:16:42.586Z"
   },
   {
    "duration": 14,
    "start_time": "2022-05-01T15:16:42.628Z"
   },
   {
    "duration": 29,
    "start_time": "2022-05-01T15:16:42.644Z"
   },
   {
    "duration": 59,
    "start_time": "2022-05-01T15:16:42.675Z"
   },
   {
    "duration": 15,
    "start_time": "2022-05-01T15:16:42.737Z"
   },
   {
    "duration": 14,
    "start_time": "2022-05-01T15:16:42.754Z"
   },
   {
    "duration": 54,
    "start_time": "2022-05-01T15:16:42.771Z"
   },
   {
    "duration": 13,
    "start_time": "2022-05-01T15:16:42.827Z"
   },
   {
    "duration": 15,
    "start_time": "2022-05-01T15:16:42.843Z"
   },
   {
    "duration": 20,
    "start_time": "2022-05-01T15:16:42.861Z"
   },
   {
    "duration": 19,
    "start_time": "2022-05-01T15:16:42.924Z"
   },
   {
    "duration": 20,
    "start_time": "2022-05-01T15:16:42.947Z"
   },
   {
    "duration": 432,
    "start_time": "2022-05-04T10:40:06.781Z"
   },
   {
    "duration": 79,
    "start_time": "2022-05-04T10:40:07.216Z"
   },
   {
    "duration": 21,
    "start_time": "2022-05-04T10:40:07.297Z"
   },
   {
    "duration": 14,
    "start_time": "2022-05-04T10:40:07.321Z"
   },
   {
    "duration": 18,
    "start_time": "2022-05-04T10:40:07.336Z"
   },
   {
    "duration": 22,
    "start_time": "2022-05-04T10:40:07.356Z"
   },
   {
    "duration": 6,
    "start_time": "2022-05-04T10:40:07.380Z"
   },
   {
    "duration": 10,
    "start_time": "2022-05-04T10:40:07.388Z"
   },
   {
    "duration": 21,
    "start_time": "2022-05-04T10:40:07.400Z"
   },
   {
    "duration": 8,
    "start_time": "2022-05-04T10:40:07.425Z"
   },
   {
    "duration": 41,
    "start_time": "2022-05-04T10:40:07.435Z"
   },
   {
    "duration": 10,
    "start_time": "2022-05-04T10:40:07.478Z"
   },
   {
    "duration": 20,
    "start_time": "2022-05-04T10:40:07.490Z"
   },
   {
    "duration": 27,
    "start_time": "2022-05-04T10:40:07.512Z"
   },
   {
    "duration": 4,
    "start_time": "2022-05-04T10:40:07.541Z"
   },
   {
    "duration": 9,
    "start_time": "2022-05-04T10:40:07.547Z"
   },
   {
    "duration": 16,
    "start_time": "2022-05-04T10:40:07.557Z"
   },
   {
    "duration": 20,
    "start_time": "2022-05-04T10:40:07.575Z"
   },
   {
    "duration": 5,
    "start_time": "2022-05-04T10:40:07.597Z"
   },
   {
    "duration": 14,
    "start_time": "2022-05-04T10:40:07.603Z"
   },
   {
    "duration": 10,
    "start_time": "2022-05-04T10:40:07.619Z"
   },
   {
    "duration": 36,
    "start_time": "2022-05-04T10:40:07.631Z"
   },
   {
    "duration": 20,
    "start_time": "2022-05-04T10:40:07.668Z"
   },
   {
    "duration": 21,
    "start_time": "2022-05-04T10:40:07.689Z"
   },
   {
    "duration": 39,
    "start_time": "2022-05-04T10:40:07.712Z"
   },
   {
    "duration": 23,
    "start_time": "2022-05-04T10:40:07.753Z"
   },
   {
    "duration": 94,
    "start_time": "2022-05-04T10:40:07.778Z"
   },
   {
    "duration": 12,
    "start_time": "2022-05-04T10:40:07.876Z"
   },
   {
    "duration": 16,
    "start_time": "2022-05-04T10:40:07.889Z"
   },
   {
    "duration": 10,
    "start_time": "2022-05-04T10:40:07.906Z"
   },
   {
    "duration": 22,
    "start_time": "2022-05-04T10:40:07.918Z"
   },
   {
    "duration": 15,
    "start_time": "2022-05-04T10:40:07.942Z"
   },
   {
    "duration": 7,
    "start_time": "2022-05-04T10:40:07.974Z"
   },
   {
    "duration": 23,
    "start_time": "2022-05-04T10:40:07.983Z"
   },
   {
    "duration": 21,
    "start_time": "2022-05-04T10:40:08.008Z"
   },
   {
    "duration": 26,
    "start_time": "2022-05-04T10:40:08.030Z"
   },
   {
    "duration": 28,
    "start_time": "2022-05-04T10:40:08.057Z"
   },
   {
    "duration": 20,
    "start_time": "2022-05-04T10:40:08.086Z"
   },
   {
    "duration": 18,
    "start_time": "2022-05-04T10:40:08.108Z"
   },
   {
    "duration": 13,
    "start_time": "2022-05-04T10:40:08.128Z"
   },
   {
    "duration": 34,
    "start_time": "2022-05-04T10:40:08.143Z"
   },
   {
    "duration": 21,
    "start_time": "2022-05-04T10:40:08.179Z"
   },
   {
    "duration": 18,
    "start_time": "2022-05-04T10:40:08.202Z"
   },
   {
    "duration": 10,
    "start_time": "2022-05-04T10:40:08.221Z"
   },
   {
    "duration": 8,
    "start_time": "2022-05-04T10:40:08.233Z"
   },
   {
    "duration": 47,
    "start_time": "2022-05-04T10:40:08.242Z"
   },
   {
    "duration": 15,
    "start_time": "2022-05-04T10:40:08.291Z"
   },
   {
    "duration": 10,
    "start_time": "2022-05-04T10:40:08.308Z"
   },
   {
    "duration": 13,
    "start_time": "2022-05-04T10:40:08.320Z"
   },
   {
    "duration": 22,
    "start_time": "2022-05-04T10:40:08.334Z"
   },
   {
    "duration": 33,
    "start_time": "2022-05-04T10:40:08.358Z"
   },
   {
    "duration": 12,
    "start_time": "2022-05-04T10:40:08.393Z"
   },
   {
    "duration": 18,
    "start_time": "2022-05-04T10:40:28.645Z"
   },
   {
    "duration": 25,
    "start_time": "2022-05-04T10:40:44.009Z"
   },
   {
    "duration": 435,
    "start_time": "2022-05-04T10:44:16.413Z"
   },
   {
    "duration": 79,
    "start_time": "2022-05-04T10:44:16.850Z"
   },
   {
    "duration": 19,
    "start_time": "2022-05-04T10:44:16.930Z"
   },
   {
    "duration": 31,
    "start_time": "2022-05-04T10:44:16.951Z"
   },
   {
    "duration": 15,
    "start_time": "2022-05-04T10:44:16.985Z"
   },
   {
    "duration": 10,
    "start_time": "2022-05-04T10:44:17.002Z"
   },
   {
    "duration": 6,
    "start_time": "2022-05-04T10:44:17.014Z"
   },
   {
    "duration": 7,
    "start_time": "2022-05-04T10:44:17.021Z"
   },
   {
    "duration": 52,
    "start_time": "2022-05-04T10:44:17.030Z"
   },
   {
    "duration": 12,
    "start_time": "2022-05-04T10:44:17.084Z"
   },
   {
    "duration": 8,
    "start_time": "2022-05-04T10:44:17.097Z"
   },
   {
    "duration": 12,
    "start_time": "2022-05-04T10:44:17.106Z"
   },
   {
    "duration": 4,
    "start_time": "2022-05-04T10:44:17.122Z"
   },
   {
    "duration": 20,
    "start_time": "2022-05-04T10:44:17.128Z"
   },
   {
    "duration": 4,
    "start_time": "2022-05-04T10:44:17.174Z"
   },
   {
    "duration": 21,
    "start_time": "2022-05-04T10:44:17.180Z"
   },
   {
    "duration": 7,
    "start_time": "2022-05-04T10:44:17.203Z"
   },
   {
    "duration": 10,
    "start_time": "2022-05-04T10:44:17.212Z"
   },
   {
    "duration": 4,
    "start_time": "2022-05-04T10:44:17.224Z"
   },
   {
    "duration": 8,
    "start_time": "2022-05-04T10:44:17.230Z"
   },
   {
    "duration": 8,
    "start_time": "2022-05-04T10:44:17.240Z"
   },
   {
    "duration": 44,
    "start_time": "2022-05-04T10:44:17.249Z"
   },
   {
    "duration": 7,
    "start_time": "2022-05-04T10:44:17.295Z"
   },
   {
    "duration": 10,
    "start_time": "2022-05-04T10:44:17.303Z"
   },
   {
    "duration": 6,
    "start_time": "2022-05-04T10:44:17.314Z"
   },
   {
    "duration": 7,
    "start_time": "2022-05-04T10:44:17.321Z"
   },
   {
    "duration": 14,
    "start_time": "2022-05-04T10:44:17.329Z"
   },
   {
    "duration": 7,
    "start_time": "2022-05-04T10:44:17.344Z"
   },
   {
    "duration": 21,
    "start_time": "2022-05-04T10:44:17.373Z"
   },
   {
    "duration": 8,
    "start_time": "2022-05-04T10:44:17.396Z"
   },
   {
    "duration": 14,
    "start_time": "2022-05-04T10:44:17.406Z"
   },
   {
    "duration": 13,
    "start_time": "2022-05-04T10:44:17.422Z"
   },
   {
    "duration": 43,
    "start_time": "2022-05-04T10:44:17.436Z"
   },
   {
    "duration": 24,
    "start_time": "2022-05-04T10:44:17.482Z"
   },
   {
    "duration": 11,
    "start_time": "2022-05-04T10:44:17.508Z"
   },
   {
    "duration": 11,
    "start_time": "2022-05-04T10:44:17.520Z"
   },
   {
    "duration": 22,
    "start_time": "2022-05-04T10:44:17.533Z"
   },
   {
    "duration": 25,
    "start_time": "2022-05-04T10:44:17.573Z"
   },
   {
    "duration": 18,
    "start_time": "2022-05-04T10:44:17.600Z"
   },
   {
    "duration": 11,
    "start_time": "2022-05-04T10:44:17.619Z"
   },
   {
    "duration": 44,
    "start_time": "2022-05-04T10:44:17.632Z"
   },
   {
    "duration": 24,
    "start_time": "2022-05-04T10:44:17.678Z"
   },
   {
    "duration": 24,
    "start_time": "2022-05-04T10:44:17.703Z"
   },
   {
    "duration": 19,
    "start_time": "2022-05-04T10:44:17.729Z"
   },
   {
    "duration": 22,
    "start_time": "2022-05-04T10:44:17.751Z"
   },
   {
    "duration": 27,
    "start_time": "2022-05-04T10:44:17.776Z"
   },
   {
    "duration": 13,
    "start_time": "2022-05-04T10:44:17.805Z"
   },
   {
    "duration": 13,
    "start_time": "2022-05-04T10:44:17.820Z"
   },
   {
    "duration": 55,
    "start_time": "2022-05-04T10:44:17.835Z"
   },
   {
    "duration": 13,
    "start_time": "2022-05-04T10:44:17.891Z"
   },
   {
    "duration": 24,
    "start_time": "2022-05-04T10:44:17.906Z"
   }
  ],
  "kernelspec": {
   "display_name": "Python 3 (ipykernel)",
   "language": "python",
   "name": "python3"
  },
  "language_info": {
   "codemirror_mode": {
    "name": "ipython",
    "version": 3
   },
   "file_extension": ".py",
   "mimetype": "text/x-python",
   "name": "python",
   "nbconvert_exporter": "python",
   "pygments_lexer": "ipython3",
   "version": "3.9.12"
  },
  "toc": {
   "base_numbering": "1",
   "nav_menu": {},
   "number_sections": true,
   "sideBar": true,
   "skip_h1_title": true,
   "title_cell": "Содержание",
   "title_sidebar": "Contents",
   "toc_cell": true,
   "toc_position": {
    "height": "calc(100% - 180px)",
    "left": "10px",
    "top": "150px",
    "width": "303.837px"
   },
   "toc_section_display": true,
   "toc_window_display": false
  }
 },
 "nbformat": 4,
 "nbformat_minor": 5
}
